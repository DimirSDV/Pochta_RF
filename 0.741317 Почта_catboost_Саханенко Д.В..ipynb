{
 "cells": [
  {
   "cell_type": "markdown",
   "metadata": {
    "toc": true
   },
   "source": [
    "<h1>Table of Contents<span class=\"tocSkip\"></span></h1>\n",
    "<div class=\"toc\"><ul class=\"toc-item\"><li><span><a href=\"#Загрузим-нужные-библиотеки\" data-toc-modified-id=\"Загрузим-нужные-библиотеки-1\"><span class=\"toc-item-num\">1&nbsp;&nbsp;</span>Загрузим нужные библиотеки</a></span></li><li><span><a href=\"#Изучение-датасета\" data-toc-modified-id=\"Изучение-датасета-2\"><span class=\"toc-item-num\">2&nbsp;&nbsp;</span>Изучение датасета</a></span></li><li><span><a href=\"#Формирование-итогового-набора-признаков-после-изучения-матрицы-фи-корреляции\" data-toc-modified-id=\"Формирование-итогового-набора-признаков-после-изучения-матрицы-фи-корреляции-3\"><span class=\"toc-item-num\">3&nbsp;&nbsp;</span>Формирование итогового набора признаков после изучения матрицы фи-корреляции</a></span><ul class=\"toc-item\"><li><span><a href=\"#Заполнение-пропусков-через-Imputer\" data-toc-modified-id=\"Заполнение-пропусков-через-Imputer-3.1\"><span class=\"toc-item-num\">3.1&nbsp;&nbsp;</span>Заполнение пропусков через Imputer</a></span></li></ul></li><li><span><a href=\"#Формула-метрики\" data-toc-modified-id=\"Формула-метрики-4\"><span class=\"toc-item-num\">4&nbsp;&nbsp;</span>Формула метрики</a></span></li><li><span><a href=\"#Обучение-моделей\" data-toc-modified-id=\"Обучение-моделей-5\"><span class=\"toc-item-num\">5&nbsp;&nbsp;</span>Обучение моделей</a></span><ul class=\"toc-item\"><li><span><a href=\"#LightGBM\" data-toc-modified-id=\"LightGBM-5.1\"><span class=\"toc-item-num\">5.1&nbsp;&nbsp;</span>LightGBM</a></span></li><li><span><a href=\"#CatBoostClassifier\" data-toc-modified-id=\"CatBoostClassifier-5.2\"><span class=\"toc-item-num\">5.2&nbsp;&nbsp;</span>CatBoostClassifier</a></span></li></ul></li><li><span><a href=\"#Оценка-точности\" data-toc-modified-id=\"Оценка-точности-6\"><span class=\"toc-item-num\">6&nbsp;&nbsp;</span>Оценка точности</a></span></li></ul></div>"
   ]
  },
  {
   "cell_type": "markdown",
   "metadata": {},
   "source": [
    "    Постановщик задачи: Почта России\n",
    "    Автор решения: Саханенко Дмитрий"
   ]
  },
  {
   "cell_type": "markdown",
   "metadata": {},
   "source": [
    "# Разработка модели предсказания потери почтовых отправлений"
   ]
  },
  {
   "cell_type": "markdown",
   "metadata": {},
   "source": [
    "Весь процесс доставки — от приема в отделении до вручения получателю — состоит из большого числа операций. Отправление запаковывают, перевозят на склад и транспортируют между сортировочными пунктами. Если доставка едет из-за границы, то дополнительно появляются операции на зарубежной и российской таможне.\n",
    "\n",
    "Ускорить и удешевить доставку помогают крупные логистические хабы. Там мелкие грузы сортируются и отправляются в соседние регионы или собираются в новые контейнеры для отправки в другие макрорегионы. Таким образом, почтовые отправления путешествуют по сети сортировочных центров, как кровь по капиллярам, и в конце концов добираются в любые точки нашей страны.\n",
    "\n",
    "Несмотря на высокий уровень системы безопасности, по-прежнему остается риск пропаж или порчи отправлений: перемещений и операций с посылками очень много, кроме того, в процессе может сыграть человеческий фактор.\n",
    "\n",
    "Точное предсказание пропаж и их локализация позволит повысить надежность системы — гарантировать доставку отправлений в срок и снизить расходы на транспортировку. Предлагаем участникам чемпионата решить эту задачу — разработать модель предсказания потери почтовых отправлений.\n",
    "\n",
    "* Подробное описание задачи и данные будут опубликованы в момент старта чемпионата 25 октября в 11:00 (МСК)."
   ]
  },
  {
   "cell_type": "markdown",
   "metadata": {
    "id": "fnE1_J-4dhSR"
   },
   "source": [
    "## Загрузим нужные библиотеки"
   ]
  },
  {
   "cell_type": "code",
   "execution_count": 1,
   "metadata": {
    "id": "uaKzqUxsdjDa"
   },
   "outputs": [],
   "source": [
    "# импортируем библиотеки \n",
    "import pandas as pd\n",
    "import seaborn as sns\n",
    "import numpy as np\n",
    "import matplotlib.pyplot as plt\n",
    "\n",
    "%matplotlib inline\n",
    "import os\n",
    "import math\n",
    "import time\n",
    "import itertools \n",
    "import urllib.request\n",
    "from pathlib import Path\n",
    "\n",
    "from sklearn.model_selection import train_test_split, RandomizedSearchCV, GridSearchCV\n",
    "from catboost import CatBoostClassifier, Pool\n",
    "from sklearn import model_selection\n",
    "from sklearn.model_selection import cross_val_score\n",
    "from sklearn import metrics\n",
    "from sklearn.metrics import recall_score, precision_score, confusion_matrix, roc_auc_score, roc_curve, accuracy_score, auc\n",
    "\n",
    "from sklearn.pipeline import Pipeline\n",
    "from lightgbm import LGBMClassifier\n",
    "from sklearn.preprocessing import StandardScaler\n",
    "\n",
    "import phik\n",
    "from phik.report import plot_correlation_matrix\n",
    "from phik import report\n",
    "\n",
    "import warnings\n",
    "warnings.filterwarnings('ignore')\n",
    "import pickle\n",
    "\n",
    "from sklearn.utils import shuffle\n",
    "\n",
    "from tqdm import tqdm\n",
    "from sklearn.impute import SimpleImputer\n",
    "from sklearn.datasets import make_classification\n",
    "\n",
    "#from imblearn.over_sampling import BorderlineSMOTE\n",
    "#from sklearn.ensemble import RandomForestClassifier, ExtraTreesClassifier, VotingClassifier\n",
    "#from sklearn.linear_model import SGDClassifier\n",
    "#from sklearn.svm import SVC\n",
    "#from sklearn import tree\n",
    "#from sklearn.preprocessing import OneHotEncoder\n",
    "#from sklearn.ensemble import RandomForestClassifier"
   ]
  },
  {
   "cell_type": "code",
   "execution_count": 122,
   "metadata": {},
   "outputs": [],
   "source": [
    "# зададим глобальные константы для всего проекта\n",
    "\n",
    "RANDOM_STATE=20221120 #константа\n",
    "\n",
    "TEST_SIZE=0.3 #размер тестовой выборки\n",
    "\n",
    "FRACTION_FOR_DOWNSAMPLING=1 #размер выборки для DOWNSAMPLING (доля \"0\" по 'label' от датасета для обучающей выборки)"
   ]
  },
  {
   "cell_type": "code",
   "execution_count": 3,
   "metadata": {
    "colab": {
     "base_uri": "https://localhost:8080/"
    },
    "id": "2scLoULoXkT0",
    "outputId": "f34d3abd-0c25-4cb1-bc9a-36e9a8739c3a"
   },
   "outputs": [],
   "source": [
    "# загрузим обучающий датасет\n",
    "df_train_loaded = pd.read_csv(\"E:/Чемпионат ИИ 2022/Всероссийский чемпионат окт.-ноя. 2022/Почта России/data/train_dataset_train.csv\")\n"
   ]
  },
  {
   "cell_type": "code",
   "execution_count": 4,
   "metadata": {},
   "outputs": [],
   "source": [
    "# загрузим тестовый датасет\n",
    "df_test_loaded = pd.read_csv(\"E:/Чемпионат ИИ 2022/Всероссийский чемпионат окт.-ноя. 2022/Почта России/data/test_dataset_test.csv\")\n"
   ]
  },
  {
   "cell_type": "code",
   "execution_count": 5,
   "metadata": {},
   "outputs": [],
   "source": [
    "# загрузим датасет с требуемым форматом выгрузки решения\n",
    "df_sample_solution_loaded = pd.read_csv(\"E:/Чемпионат ИИ 2022/Всероссийский чемпионат окт.-ноя. 2022/Почта России/data/sample_solution.csv\")\n"
   ]
  },
  {
   "cell_type": "code",
   "execution_count": 6,
   "metadata": {},
   "outputs": [],
   "source": [
    "df_train = df_train_loaded.copy()\n",
    "df_test = df_test_loaded.copy()\n",
    "df_sample_solution = df_sample_solution_loaded.copy()"
   ]
  },
  {
   "cell_type": "code",
   "execution_count": 7,
   "metadata": {},
   "outputs": [],
   "source": [
    "# создадим класс DataScience для заполнения пропусков, подсчета пустых и нулевых значений\n",
    "\n",
    "class DataScience:\n",
    "\n",
    "    def path_to_files(self, path, link):\n",
    "        Path('datasets').mkdir(parents=True, exist_ok=True)\n",
    "        def get_file(file_name, url):\n",
    "            if not os.path.exists(file_name):\n",
    "                print(file_name, 'файл не найден, будет загружен из сети')\n",
    "                _ = urllib.request.urlretrieve(url, file_name)\n",
    "        urls = {\n",
    "            'datasets': (path, link)\n",
    "        }\n",
    "        [get_file(*urls[k]) for k in urls]\n",
    "        data = pd.read_csv(urls['datasets'][0])\n",
    "        return data\n",
    "\n",
    "    def corr_diagram(self, x):\n",
    "        plt.figure(figsize=(12, 10), dpi=80)\n",
    "        sns.heatmap(x.corr(), xticklabels=x.corr().columns, yticklabels=x.corr().columns, cmap='RdYlGn', center=0,\n",
    "                    annot=True)\n",
    "        plt.title('Диаграмма корреляции', fontsize=22)\n",
    "        plt.xticks(fontsize=12)\n",
    "        plt.yticks(fontsize=12)\n",
    "        plt.show()\n",
    "\n",
    "    def clean_dataset(self, df):\n",
    "        assert isinstance(df, pd.DataFrame), \"df needs to be a pd.DataFrame\"\n",
    "        df.dropna(inplace=True)\n",
    "        indices_to_keep = ~df.isin([np.nan, np.inf, -np.inf]).any(1)\n",
    "\n",
    "        return df[indices_to_keep].astype(np.float64)\n",
    "\n",
    "    def missing_zero_values_table(self, df):\n",
    "        zero_val = (df == 0.00).astype(int).sum(axis=0)\n",
    "        mis_val = df.isnull().sum()\n",
    "        mis_val_percent = 100 * df.isnull().sum() / len(df)\n",
    "        mz_table = pd.concat([zero_val, mis_val, mis_val_percent], axis=1)\n",
    "        mz_table = mz_table.rename(\n",
    "            columns={0: 'Zero Values', 1: 'Missing Values', 2: '% of Total Values'})\n",
    "        mz_table['Total Zero and Missing Values'] = mz_table['Zero Values'] + mz_table['Missing Values']\n",
    "        mz_table['% Total Zero and Missing Values'] = 100 * mz_table['Total Zero and Missing Values'] / len(df)\n",
    "        mz_table['Data Type'] = df.dtypes\n",
    "        mz_table = mz_table[mz_table.iloc[:, 1] != 0].sort_values('% of Total Values', ascending=False).round(1)\n",
    "        print(\"Your selected dataframe has \" + str(df.shape[1]) + \" columns and \" + str(df.shape[0]) + \" Rows.\\n\"\n",
    "           \"There are \" + str(mz_table.shape[0]) +\n",
    "              \" columns that have missing values.\") \n",
    "        print(\"Number of rows that have at least one NaN\", df.isnull().any(axis=1).sum(), \" or \",  f\"{df.isnull().any(axis=1).sum() / len(df):.1%}\")        \n",
    "        return mz_table\n",
    "\n",
    "    def space_zero_values_table(self, df):\n",
    "        zero_val = (df == 0.00).astype(int).sum(axis=0)\n",
    "        space_val = (df == ' ').sum(axis=0)\n",
    "        space_val_percent = 100 * df.isnull().sum() / len(df)\n",
    "        mz_table = pd.concat([zero_val, space_val, space_val_percent], axis=1)\n",
    "        mz_table = mz_table.rename(\n",
    "            columns={0: 'Zero Values', 1: 'Space Values', 2: '% of Total Values'})\n",
    "        mz_table['Total Zero and Space Values'] = mz_table['Zero Values'] + mz_table['Space Values']\n",
    "        mz_table['% Total Zero and Space Values'] = 100 * mz_table['Total Zero and Space Values'] / len(df)\n",
    "        mz_table['Data Type'] = df.dtypes\n",
    "        mz_table = mz_table[mz_table.iloc[:, 1] != 0].sort_values('% of Total Values', ascending=False).round(1)\n",
    "        print(\"Your selected dataframe has \" + str(df.shape[1]) + \" columns and \" + str(df.shape[0]) + \" Rows.\\n\"\n",
    "           \"There are \" + str(mz_table.shape[0]) +\n",
    "              \" columns that have missing values.\") \n",
    "        print(\"Number of rows that have at least one NaN\", df.isnull().any(axis=1).sum(), \" or \",  f\"{df.isnull().any(axis=1).sum() / len(df):.1%}\")        \n",
    "        return mz_table    \n",
    "    \n",
    "    def fill_with_mode(self, column, column1, column2):\n",
    "        df[column] = df.groupby([column1, column2])[column].transform(lambda x: x.fillna((x.mode()[0] if not x.mode().empty else \"Empty\")))  "
   ]
  },
  {
   "cell_type": "code",
   "execution_count": 8,
   "metadata": {},
   "outputs": [],
   "source": [
    "# присвоим переменной ds созданный класс DataScience\n",
    "ds = DataScience()"
   ]
  },
  {
   "cell_type": "markdown",
   "metadata": {
    "id": "WcxAsO_Md05t"
   },
   "source": [
    "## Изучение датасета"
   ]
  },
  {
   "cell_type": "code",
   "execution_count": 9,
   "metadata": {},
   "outputs": [
    {
     "name": "stdout",
     "output_type": "stream",
     "text": [
      "<class 'pandas.core.frame.DataFrame'>\n",
      "RangeIndex: 6000000 entries, 0 to 5999999\n",
      "Data columns (total 29 columns):\n",
      " #   Column                         Dtype  \n",
      "---  ------                         -----  \n",
      " 0   id                             int64  \n",
      " 1   oper_type + oper_attr          object \n",
      " 2   index_oper                     object \n",
      " 3   type                           object \n",
      " 4   priority                       float64\n",
      " 5   is_privatecategory             object \n",
      " 6   class                          float64\n",
      " 7   is_in_yandex                   object \n",
      " 8   is_return                      object \n",
      " 9   weight                         float64\n",
      " 10  mailtype                       float64\n",
      " 11  mailctg                        float64\n",
      " 12  mailrank                       float64\n",
      " 13  directctg                      float64\n",
      " 14  transport_pay                  float64\n",
      " 15  postmark                       float64\n",
      " 16  name_mfi                       object \n",
      " 17  weight_mfi                     float64\n",
      " 18  price_mfi                      float64\n",
      " 19  dist_qty_oper_login_1          float64\n",
      " 20  total_qty_oper_login_1         float64\n",
      " 21  total_qty_oper_login_0         float64\n",
      " 22  total_qty_over_index_and_type  float64\n",
      " 23  total_qty_over_index           float64\n",
      " 24  is_wrong_sndr_name             int64  \n",
      " 25  is_wrong_rcpn_name             int64  \n",
      " 26  is_wrong_phone_number          int64  \n",
      " 27  is_wrong_address               int64  \n",
      " 28  label                          int64  \n",
      "dtypes: float64(16), int64(6), object(7)\n",
      "memory usage: 1.3+ GB\n"
     ]
    }
   ],
   "source": [
    "df_train.info()"
   ]
  },
  {
   "cell_type": "code",
   "execution_count": 10,
   "metadata": {
    "colab": {
     "base_uri": "https://localhost:8080/",
     "height": 272
    },
    "id": "I16XfuOpXwIy",
    "outputId": "fa97aae8-5d50-47c4-8c95-47142007b94b"
   },
   "outputs": [
    {
     "data": {
      "text/html": [
       "<div>\n",
       "<style scoped>\n",
       "    .dataframe tbody tr th:only-of-type {\n",
       "        vertical-align: middle;\n",
       "    }\n",
       "\n",
       "    .dataframe tbody tr th {\n",
       "        vertical-align: top;\n",
       "    }\n",
       "\n",
       "    .dataframe thead th {\n",
       "        text-align: right;\n",
       "    }\n",
       "</style>\n",
       "<table border=\"1\" class=\"dataframe\">\n",
       "  <thead>\n",
       "    <tr style=\"text-align: right;\">\n",
       "      <th></th>\n",
       "      <th>id</th>\n",
       "      <th>oper_type + oper_attr</th>\n",
       "      <th>index_oper</th>\n",
       "      <th>type</th>\n",
       "      <th>priority</th>\n",
       "      <th>is_privatecategory</th>\n",
       "      <th>class</th>\n",
       "      <th>is_in_yandex</th>\n",
       "      <th>is_return</th>\n",
       "      <th>weight</th>\n",
       "      <th>...</th>\n",
       "      <th>dist_qty_oper_login_1</th>\n",
       "      <th>total_qty_oper_login_1</th>\n",
       "      <th>total_qty_oper_login_0</th>\n",
       "      <th>total_qty_over_index_and_type</th>\n",
       "      <th>total_qty_over_index</th>\n",
       "      <th>is_wrong_sndr_name</th>\n",
       "      <th>is_wrong_rcpn_name</th>\n",
       "      <th>is_wrong_phone_number</th>\n",
       "      <th>is_wrong_address</th>\n",
       "      <th>label</th>\n",
       "    </tr>\n",
       "  </thead>\n",
       "  <tbody>\n",
       "    <tr>\n",
       "      <th>0</th>\n",
       "      <td>6818780</td>\n",
       "      <td>1043_-1</td>\n",
       "      <td>628629.0</td>\n",
       "      <td>Участок</td>\n",
       "      <td>7503.0</td>\n",
       "      <td>N</td>\n",
       "      <td>0.0</td>\n",
       "      <td>Y</td>\n",
       "      <td>N</td>\n",
       "      <td>87.0</td>\n",
       "      <td>...</td>\n",
       "      <td>42.0</td>\n",
       "      <td>720176.0</td>\n",
       "      <td>58950.0</td>\n",
       "      <td>779126.0</td>\n",
       "      <td>8290896.0</td>\n",
       "      <td>0</td>\n",
       "      <td>0</td>\n",
       "      <td>0</td>\n",
       "      <td>0</td>\n",
       "      <td>0</td>\n",
       "    </tr>\n",
       "    <tr>\n",
       "      <th>1</th>\n",
       "      <td>9907176</td>\n",
       "      <td>1023_-1</td>\n",
       "      <td>102976.0</td>\n",
       "      <td>ММПО</td>\n",
       "      <td>7503.0</td>\n",
       "      <td>N</td>\n",
       "      <td>0.0</td>\n",
       "      <td>N</td>\n",
       "      <td>N</td>\n",
       "      <td>107.0</td>\n",
       "      <td>...</td>\n",
       "      <td>914.0</td>\n",
       "      <td>48856658.0</td>\n",
       "      <td>83318932.0</td>\n",
       "      <td>132175590.0</td>\n",
       "      <td>136819803.0</td>\n",
       "      <td>0</td>\n",
       "      <td>0</td>\n",
       "      <td>0</td>\n",
       "      <td>0</td>\n",
       "      <td>0</td>\n",
       "    </tr>\n",
       "    <tr>\n",
       "      <th>2</th>\n",
       "      <td>3304275</td>\n",
       "      <td>1018_-1</td>\n",
       "      <td>620962.0</td>\n",
       "      <td>Цех</td>\n",
       "      <td>7503.0</td>\n",
       "      <td>N</td>\n",
       "      <td>0.0</td>\n",
       "      <td>Y</td>\n",
       "      <td>N</td>\n",
       "      <td>50.0</td>\n",
       "      <td>...</td>\n",
       "      <td>62.0</td>\n",
       "      <td>3246292.0</td>\n",
       "      <td>3233068.0</td>\n",
       "      <td>6479360.0</td>\n",
       "      <td>52708071.0</td>\n",
       "      <td>0</td>\n",
       "      <td>1</td>\n",
       "      <td>0</td>\n",
       "      <td>0</td>\n",
       "      <td>0</td>\n",
       "    </tr>\n",
       "    <tr>\n",
       "      <th>3</th>\n",
       "      <td>9020937</td>\n",
       "      <td>1019_-1</td>\n",
       "      <td>344964.0</td>\n",
       "      <td>Цех</td>\n",
       "      <td>7503.0</td>\n",
       "      <td>N</td>\n",
       "      <td>0.0</td>\n",
       "      <td>Y</td>\n",
       "      <td>N</td>\n",
       "      <td>416.0</td>\n",
       "      <td>...</td>\n",
       "      <td>55.0</td>\n",
       "      <td>2060928.0</td>\n",
       "      <td>653280.0</td>\n",
       "      <td>2714208.0</td>\n",
       "      <td>19562334.0</td>\n",
       "      <td>0</td>\n",
       "      <td>0</td>\n",
       "      <td>0</td>\n",
       "      <td>0</td>\n",
       "      <td>0</td>\n",
       "    </tr>\n",
       "    <tr>\n",
       "      <th>4</th>\n",
       "      <td>3082311</td>\n",
       "      <td>1020_-1</td>\n",
       "      <td>629819.0</td>\n",
       "      <td>Участок</td>\n",
       "      <td>7503.0</td>\n",
       "      <td>N</td>\n",
       "      <td>0.0</td>\n",
       "      <td>Y</td>\n",
       "      <td>N</td>\n",
       "      <td>795.0</td>\n",
       "      <td>...</td>\n",
       "      <td>16.0</td>\n",
       "      <td>316919.0</td>\n",
       "      <td>27911.0</td>\n",
       "      <td>344830.0</td>\n",
       "      <td>4719186.0</td>\n",
       "      <td>0</td>\n",
       "      <td>0</td>\n",
       "      <td>0</td>\n",
       "      <td>0</td>\n",
       "      <td>0</td>\n",
       "    </tr>\n",
       "  </tbody>\n",
       "</table>\n",
       "<p>5 rows × 29 columns</p>\n",
       "</div>"
      ],
      "text/plain": [
       "        id oper_type + oper_attr index_oper     type  priority  \\\n",
       "0  6818780               1043_-1   628629.0  Участок    7503.0   \n",
       "1  9907176               1023_-1   102976.0     ММПО    7503.0   \n",
       "2  3304275               1018_-1   620962.0      Цех    7503.0   \n",
       "3  9020937               1019_-1   344964.0      Цех    7503.0   \n",
       "4  3082311               1020_-1   629819.0  Участок    7503.0   \n",
       "\n",
       "  is_privatecategory  class is_in_yandex is_return  weight  ...  \\\n",
       "0                  N    0.0            Y         N    87.0  ...   \n",
       "1                  N    0.0            N         N   107.0  ...   \n",
       "2                  N    0.0            Y         N    50.0  ...   \n",
       "3                  N    0.0            Y         N   416.0  ...   \n",
       "4                  N    0.0            Y         N   795.0  ...   \n",
       "\n",
       "   dist_qty_oper_login_1  total_qty_oper_login_1  total_qty_oper_login_0  \\\n",
       "0                   42.0                720176.0                 58950.0   \n",
       "1                  914.0              48856658.0              83318932.0   \n",
       "2                   62.0               3246292.0               3233068.0   \n",
       "3                   55.0               2060928.0                653280.0   \n",
       "4                   16.0                316919.0                 27911.0   \n",
       "\n",
       "   total_qty_over_index_and_type  total_qty_over_index  is_wrong_sndr_name  \\\n",
       "0                       779126.0             8290896.0                   0   \n",
       "1                    132175590.0           136819803.0                   0   \n",
       "2                      6479360.0            52708071.0                   0   \n",
       "3                      2714208.0            19562334.0                   0   \n",
       "4                       344830.0             4719186.0                   0   \n",
       "\n",
       "  is_wrong_rcpn_name  is_wrong_phone_number  is_wrong_address  label  \n",
       "0                  0                      0                 0      0  \n",
       "1                  0                      0                 0      0  \n",
       "2                  1                      0                 0      0  \n",
       "3                  0                      0                 0      0  \n",
       "4                  0                      0                 0      0  \n",
       "\n",
       "[5 rows x 29 columns]"
      ]
     },
     "execution_count": 10,
     "metadata": {},
     "output_type": "execute_result"
    }
   ],
   "source": [
    "df_train.head()"
   ]
  },
  {
   "cell_type": "code",
   "execution_count": 11,
   "metadata": {},
   "outputs": [
    {
     "name": "stdout",
     "output_type": "stream",
     "text": [
      "<class 'pandas.core.frame.DataFrame'>\n",
      "RangeIndex: 4000000 entries, 0 to 3999999\n",
      "Data columns (total 28 columns):\n",
      " #   Column                         Dtype  \n",
      "---  ------                         -----  \n",
      " 0   id                             int64  \n",
      " 1   oper_type + oper_attr          object \n",
      " 2   index_oper                     object \n",
      " 3   type                           object \n",
      " 4   priority                       float64\n",
      " 5   is_privatecategory             object \n",
      " 6   class                          float64\n",
      " 7   is_in_yandex                   object \n",
      " 8   is_return                      object \n",
      " 9   weight                         float64\n",
      " 10  mailtype                       float64\n",
      " 11  mailctg                        float64\n",
      " 12  mailrank                       float64\n",
      " 13  directctg                      float64\n",
      " 14  transport_pay                  float64\n",
      " 15  postmark                       float64\n",
      " 16  name_mfi                       object \n",
      " 17  weight_mfi                     float64\n",
      " 18  price_mfi                      float64\n",
      " 19  dist_qty_oper_login_1          float64\n",
      " 20  total_qty_oper_login_1         float64\n",
      " 21  total_qty_oper_login_0         float64\n",
      " 22  total_qty_over_index_and_type  float64\n",
      " 23  total_qty_over_index           float64\n",
      " 24  is_wrong_sndr_name             int64  \n",
      " 25  is_wrong_rcpn_name             int64  \n",
      " 26  is_wrong_phone_number          int64  \n",
      " 27  is_wrong_address               int64  \n",
      "dtypes: float64(16), int64(5), object(7)\n",
      "memory usage: 854.5+ MB\n"
     ]
    }
   ],
   "source": [
    "df_test.info()"
   ]
  },
  {
   "cell_type": "code",
   "execution_count": 12,
   "metadata": {},
   "outputs": [
    {
     "data": {
      "text/html": [
       "<div>\n",
       "<style scoped>\n",
       "    .dataframe tbody tr th:only-of-type {\n",
       "        vertical-align: middle;\n",
       "    }\n",
       "\n",
       "    .dataframe tbody tr th {\n",
       "        vertical-align: top;\n",
       "    }\n",
       "\n",
       "    .dataframe thead th {\n",
       "        text-align: right;\n",
       "    }\n",
       "</style>\n",
       "<table border=\"1\" class=\"dataframe\">\n",
       "  <thead>\n",
       "    <tr style=\"text-align: right;\">\n",
       "      <th></th>\n",
       "      <th>id</th>\n",
       "      <th>oper_type + oper_attr</th>\n",
       "      <th>index_oper</th>\n",
       "      <th>type</th>\n",
       "      <th>priority</th>\n",
       "      <th>is_privatecategory</th>\n",
       "      <th>class</th>\n",
       "      <th>is_in_yandex</th>\n",
       "      <th>is_return</th>\n",
       "      <th>weight</th>\n",
       "      <th>...</th>\n",
       "      <th>price_mfi</th>\n",
       "      <th>dist_qty_oper_login_1</th>\n",
       "      <th>total_qty_oper_login_1</th>\n",
       "      <th>total_qty_oper_login_0</th>\n",
       "      <th>total_qty_over_index_and_type</th>\n",
       "      <th>total_qty_over_index</th>\n",
       "      <th>is_wrong_sndr_name</th>\n",
       "      <th>is_wrong_rcpn_name</th>\n",
       "      <th>is_wrong_phone_number</th>\n",
       "      <th>is_wrong_address</th>\n",
       "    </tr>\n",
       "  </thead>\n",
       "  <tbody>\n",
       "    <tr>\n",
       "      <th>0</th>\n",
       "      <td>7815282</td>\n",
       "      <td>8_13</td>\n",
       "      <td>102976.0</td>\n",
       "      <td>ММПО</td>\n",
       "      <td>7503.0</td>\n",
       "      <td>N</td>\n",
       "      <td>0.0</td>\n",
       "      <td>N</td>\n",
       "      <td>N</td>\n",
       "      <td>85.0</td>\n",
       "      <td>...</td>\n",
       "      <td>489.0</td>\n",
       "      <td>972.0</td>\n",
       "      <td>68766046.0</td>\n",
       "      <td>91123247.0</td>\n",
       "      <td>159889293.0</td>\n",
       "      <td>164927295.0</td>\n",
       "      <td>0</td>\n",
       "      <td>0</td>\n",
       "      <td>0</td>\n",
       "      <td>0</td>\n",
       "    </tr>\n",
       "    <tr>\n",
       "      <th>1</th>\n",
       "      <td>8443555</td>\n",
       "      <td>8_2</td>\n",
       "      <td>238753.0</td>\n",
       "      <td>ГОПС</td>\n",
       "      <td>7503.0</td>\n",
       "      <td>N</td>\n",
       "      <td>4.0</td>\n",
       "      <td>Y</td>\n",
       "      <td>N</td>\n",
       "      <td>21.0</td>\n",
       "      <td>...</td>\n",
       "      <td>186.0</td>\n",
       "      <td>2.0</td>\n",
       "      <td>2895.0</td>\n",
       "      <td>1545.0</td>\n",
       "      <td>4440.0</td>\n",
       "      <td>20623.0</td>\n",
       "      <td>0</td>\n",
       "      <td>1</td>\n",
       "      <td>1</td>\n",
       "      <td>0</td>\n",
       "    </tr>\n",
       "    <tr>\n",
       "      <th>2</th>\n",
       "      <td>6352559</td>\n",
       "      <td>1020_-1</td>\n",
       "      <td>618254.0</td>\n",
       "      <td>ГОПС</td>\n",
       "      <td>7503.0</td>\n",
       "      <td>N</td>\n",
       "      <td>4.0</td>\n",
       "      <td>Y</td>\n",
       "      <td>N</td>\n",
       "      <td>388.0</td>\n",
       "      <td>...</td>\n",
       "      <td>500.0</td>\n",
       "      <td>3.0</td>\n",
       "      <td>2751.0</td>\n",
       "      <td>993.0</td>\n",
       "      <td>3744.0</td>\n",
       "      <td>37817.0</td>\n",
       "      <td>0</td>\n",
       "      <td>0</td>\n",
       "      <td>0</td>\n",
       "      <td>0</td>\n",
       "    </tr>\n",
       "    <tr>\n",
       "      <th>3</th>\n",
       "      <td>4921420</td>\n",
       "      <td>1016_-1</td>\n",
       "      <td>102968.0</td>\n",
       "      <td>ТИ</td>\n",
       "      <td>7503.0</td>\n",
       "      <td>N</td>\n",
       "      <td>0.0</td>\n",
       "      <td>N</td>\n",
       "      <td>N</td>\n",
       "      <td>1203.0</td>\n",
       "      <td>...</td>\n",
       "      <td>0.0</td>\n",
       "      <td>69.0</td>\n",
       "      <td>9379609.0</td>\n",
       "      <td>2267333.0</td>\n",
       "      <td>11646942.0</td>\n",
       "      <td>11759329.0</td>\n",
       "      <td>0</td>\n",
       "      <td>1</td>\n",
       "      <td>0</td>\n",
       "      <td>0</td>\n",
       "    </tr>\n",
       "    <tr>\n",
       "      <th>4</th>\n",
       "      <td>1420440</td>\n",
       "      <td>1018_-1</td>\n",
       "      <td>102971.0</td>\n",
       "      <td>Цех</td>\n",
       "      <td>7506.0</td>\n",
       "      <td>N</td>\n",
       "      <td>0.0</td>\n",
       "      <td>N</td>\n",
       "      <td>N</td>\n",
       "      <td>956.0</td>\n",
       "      <td>...</td>\n",
       "      <td>1267.0</td>\n",
       "      <td>181.0</td>\n",
       "      <td>76138189.0</td>\n",
       "      <td>8747.0</td>\n",
       "      <td>76146936.0</td>\n",
       "      <td>84110459.0</td>\n",
       "      <td>0</td>\n",
       "      <td>1</td>\n",
       "      <td>0</td>\n",
       "      <td>0</td>\n",
       "    </tr>\n",
       "  </tbody>\n",
       "</table>\n",
       "<p>5 rows × 28 columns</p>\n",
       "</div>"
      ],
      "text/plain": [
       "        id oper_type + oper_attr index_oper  type  priority  \\\n",
       "0  7815282                  8_13   102976.0  ММПО    7503.0   \n",
       "1  8443555                   8_2   238753.0  ГОПС    7503.0   \n",
       "2  6352559               1020_-1   618254.0  ГОПС    7503.0   \n",
       "3  4921420               1016_-1   102968.0    ТИ    7503.0   \n",
       "4  1420440               1018_-1   102971.0   Цех    7506.0   \n",
       "\n",
       "  is_privatecategory  class is_in_yandex is_return  weight  ...  price_mfi  \\\n",
       "0                  N    0.0            N         N    85.0  ...      489.0   \n",
       "1                  N    4.0            Y         N    21.0  ...      186.0   \n",
       "2                  N    4.0            Y         N   388.0  ...      500.0   \n",
       "3                  N    0.0            N         N  1203.0  ...        0.0   \n",
       "4                  N    0.0            N         N   956.0  ...     1267.0   \n",
       "\n",
       "   dist_qty_oper_login_1  total_qty_oper_login_1  total_qty_oper_login_0  \\\n",
       "0                  972.0              68766046.0              91123247.0   \n",
       "1                    2.0                  2895.0                  1545.0   \n",
       "2                    3.0                  2751.0                   993.0   \n",
       "3                   69.0               9379609.0               2267333.0   \n",
       "4                  181.0              76138189.0                  8747.0   \n",
       "\n",
       "   total_qty_over_index_and_type  total_qty_over_index is_wrong_sndr_name  \\\n",
       "0                    159889293.0           164927295.0                  0   \n",
       "1                         4440.0               20623.0                  0   \n",
       "2                         3744.0               37817.0                  0   \n",
       "3                     11646942.0            11759329.0                  0   \n",
       "4                     76146936.0            84110459.0                  0   \n",
       "\n",
       "   is_wrong_rcpn_name  is_wrong_phone_number  is_wrong_address  \n",
       "0                   0                      0                 0  \n",
       "1                   1                      1                 0  \n",
       "2                   0                      0                 0  \n",
       "3                   1                      0                 0  \n",
       "4                   1                      0                 0  \n",
       "\n",
       "[5 rows x 28 columns]"
      ]
     },
     "execution_count": 12,
     "metadata": {},
     "output_type": "execute_result"
    }
   ],
   "source": [
    "df_test.head()"
   ]
  },
  {
   "cell_type": "code",
   "execution_count": 13,
   "metadata": {},
   "outputs": [
    {
     "name": "stdout",
     "output_type": "stream",
     "text": [
      "<class 'pandas.core.frame.DataFrame'>\n",
      "RangeIndex: 4000000 entries, 0 to 3999999\n",
      "Data columns (total 2 columns):\n",
      " #   Column  Dtype\n",
      "---  ------  -----\n",
      " 0   id      int64\n",
      " 1   label   int64\n",
      "dtypes: int64(2)\n",
      "memory usage: 61.0 MB\n"
     ]
    }
   ],
   "source": [
    "df_sample_solution.info()"
   ]
  },
  {
   "cell_type": "code",
   "execution_count": 14,
   "metadata": {},
   "outputs": [
    {
     "data": {
      "text/html": [
       "<div>\n",
       "<style scoped>\n",
       "    .dataframe tbody tr th:only-of-type {\n",
       "        vertical-align: middle;\n",
       "    }\n",
       "\n",
       "    .dataframe tbody tr th {\n",
       "        vertical-align: top;\n",
       "    }\n",
       "\n",
       "    .dataframe thead th {\n",
       "        text-align: right;\n",
       "    }\n",
       "</style>\n",
       "<table border=\"1\" class=\"dataframe\">\n",
       "  <thead>\n",
       "    <tr style=\"text-align: right;\">\n",
       "      <th></th>\n",
       "      <th>id</th>\n",
       "      <th>label</th>\n",
       "    </tr>\n",
       "  </thead>\n",
       "  <tbody>\n",
       "    <tr>\n",
       "      <th>0</th>\n",
       "      <td>7815282</td>\n",
       "      <td>0</td>\n",
       "    </tr>\n",
       "    <tr>\n",
       "      <th>1</th>\n",
       "      <td>8443555</td>\n",
       "      <td>0</td>\n",
       "    </tr>\n",
       "    <tr>\n",
       "      <th>2</th>\n",
       "      <td>6352559</td>\n",
       "      <td>0</td>\n",
       "    </tr>\n",
       "    <tr>\n",
       "      <th>3</th>\n",
       "      <td>4921420</td>\n",
       "      <td>0</td>\n",
       "    </tr>\n",
       "    <tr>\n",
       "      <th>4</th>\n",
       "      <td>1420440</td>\n",
       "      <td>0</td>\n",
       "    </tr>\n",
       "  </tbody>\n",
       "</table>\n",
       "</div>"
      ],
      "text/plain": [
       "        id  label\n",
       "0  7815282      0\n",
       "1  8443555      0\n",
       "2  6352559      0\n",
       "3  4921420      0\n",
       "4  1420440      0"
      ]
     },
     "execution_count": 14,
     "metadata": {},
     "output_type": "execute_result"
    }
   ],
   "source": [
    "df_sample_solution.head()"
   ]
  },
  {
   "cell_type": "code",
   "execution_count": 15,
   "metadata": {},
   "outputs": [
    {
     "data": {
      "text/html": [
       "<div>\n",
       "<style scoped>\n",
       "    .dataframe tbody tr th:only-of-type {\n",
       "        vertical-align: middle;\n",
       "    }\n",
       "\n",
       "    .dataframe tbody tr th {\n",
       "        vertical-align: top;\n",
       "    }\n",
       "\n",
       "    .dataframe thead th {\n",
       "        text-align: right;\n",
       "    }\n",
       "</style>\n",
       "<table border=\"1\" class=\"dataframe\">\n",
       "  <thead>\n",
       "    <tr style=\"text-align: right;\">\n",
       "      <th></th>\n",
       "      <th>id</th>\n",
       "      <th>oper_type + oper_attr</th>\n",
       "      <th>index_oper</th>\n",
       "      <th>type</th>\n",
       "      <th>priority</th>\n",
       "      <th>is_privatecategory</th>\n",
       "      <th>class</th>\n",
       "      <th>is_in_yandex</th>\n",
       "      <th>is_return</th>\n",
       "      <th>weight</th>\n",
       "      <th>...</th>\n",
       "      <th>total_qty_oper_login_1</th>\n",
       "      <th>total_qty_oper_login_0</th>\n",
       "      <th>total_qty_over_index_and_type</th>\n",
       "      <th>total_qty_over_index</th>\n",
       "      <th>is_wrong_sndr_name</th>\n",
       "      <th>is_wrong_rcpn_name</th>\n",
       "      <th>is_wrong_phone_number</th>\n",
       "      <th>is_wrong_address</th>\n",
       "      <th>id_from_solution</th>\n",
       "      <th>id_id</th>\n",
       "    </tr>\n",
       "  </thead>\n",
       "  <tbody>\n",
       "  </tbody>\n",
       "</table>\n",
       "<p>0 rows × 30 columns</p>\n",
       "</div>"
      ],
      "text/plain": [
       "Empty DataFrame\n",
       "Columns: [id, oper_type + oper_attr, index_oper, type, priority, is_privatecategory, class, is_in_yandex, is_return, weight, mailtype, mailctg, mailrank, directctg, transport_pay, postmark, name_mfi, weight_mfi, price_mfi, dist_qty_oper_login_1, total_qty_oper_login_1, total_qty_oper_login_0, total_qty_over_index_and_type, total_qty_over_index, is_wrong_sndr_name, is_wrong_rcpn_name, is_wrong_phone_number, is_wrong_address, id_from_solution, id_id]\n",
       "Index: []\n",
       "\n",
       "[0 rows x 30 columns]"
      ]
     },
     "execution_count": 15,
     "metadata": {},
     "output_type": "execute_result"
    }
   ],
   "source": [
    "# проверим, в точности ли id в df_sample_solution соотвуетствуют df_test\n",
    "df_test_for_id_examination = df_test.copy()\n",
    "df_test_for_id_examination['id_from_solution'] = df_sample_solution['id']\n",
    "\n",
    "# cравниваем строки и записываем результат в новый столбец\n",
    "df_test_for_id_examination['id_id'] = df_test_for_id_examination['id'] == df_test_for_id_examination['id_from_solution']\n",
    "\n",
    "# запишем в different_text все строки со значением false\n",
    "different_text = df_test_for_id_examination[df_test_for_id_examination['id_id'] == False]\n",
    " \n",
    "# выведем разные строки на экран: если таких строк не будет, то соответствие полное\n",
    "different_text.head()"
   ]
  },
  {
   "cell_type": "code",
   "execution_count": 16,
   "metadata": {},
   "outputs": [
    {
     "name": "stdout",
     "output_type": "stream",
     "text": [
      "Your selected dataframe has 29 columns and 6000000 Rows.\n",
      "There are 1 columns that have missing values.\n",
      "Number of rows that have at least one NaN 0  or  0.0%\n"
     ]
    },
    {
     "data": {
      "text/html": [
       "<div>\n",
       "<style scoped>\n",
       "    .dataframe tbody tr th:only-of-type {\n",
       "        vertical-align: middle;\n",
       "    }\n",
       "\n",
       "    .dataframe tbody tr th {\n",
       "        vertical-align: top;\n",
       "    }\n",
       "\n",
       "    .dataframe thead th {\n",
       "        text-align: right;\n",
       "    }\n",
       "</style>\n",
       "<table border=\"1\" class=\"dataframe\">\n",
       "  <thead>\n",
       "    <tr style=\"text-align: right;\">\n",
       "      <th></th>\n",
       "      <th>Zero Values</th>\n",
       "      <th>Space Values</th>\n",
       "      <th>% of Total Values</th>\n",
       "      <th>Total Zero and Space Values</th>\n",
       "      <th>% Total Zero and Space Values</th>\n",
       "      <th>Data Type</th>\n",
       "    </tr>\n",
       "  </thead>\n",
       "  <tbody>\n",
       "    <tr>\n",
       "      <th>index_oper</th>\n",
       "      <td>1004</td>\n",
       "      <td>154</td>\n",
       "      <td>0.0</td>\n",
       "      <td>1158</td>\n",
       "      <td>0.0</td>\n",
       "      <td>object</td>\n",
       "    </tr>\n",
       "  </tbody>\n",
       "</table>\n",
       "</div>"
      ],
      "text/plain": [
       "            Zero Values  Space Values  % of Total Values  \\\n",
       "index_oper         1004           154                0.0   \n",
       "\n",
       "            Total Zero and Space Values  % Total Zero and Space Values  \\\n",
       "index_oper                         1158                            0.0   \n",
       "\n",
       "           Data Type  \n",
       "index_oper    object  "
      ]
     },
     "execution_count": 16,
     "metadata": {},
     "output_type": "execute_result"
    }
   ],
   "source": [
    "# Посмотрим статистику датасета по пропускам\n",
    "ds.space_zero_values_table(df_train)"
   ]
  },
  {
   "cell_type": "code",
   "execution_count": 17,
   "metadata": {},
   "outputs": [],
   "source": [
    "# заменим пробелы и нули в обучающей выборке на значение \"999999\"\n",
    "df_train.loc[(df_train['index_oper'] == '0'), 'index_oper'] = '999999'\n",
    "df_train.loc[(df_train['index_oper'] == ' '), 'index_oper'] = '999999'\n",
    "\n",
    "# заменим пробелы и нули в тестовой выборке на значение \"999999\"\n",
    "df_test.loc[(df_test['index_oper'] == '0'), 'index_oper'] = '999999'\n",
    "df_test.loc[(df_test['index_oper'] == ' '), 'index_oper'] = '999999'"
   ]
  },
  {
   "cell_type": "code",
   "execution_count": 18,
   "metadata": {},
   "outputs": [
    {
     "name": "stdout",
     "output_type": "stream",
     "text": [
      "Your selected dataframe has 29 columns and 6000000 Rows.\n",
      "There are 0 columns that have missing values.\n",
      "Number of rows that have at least one NaN 0  or  0.0%\n"
     ]
    },
    {
     "data": {
      "text/html": [
       "<div>\n",
       "<style scoped>\n",
       "    .dataframe tbody tr th:only-of-type {\n",
       "        vertical-align: middle;\n",
       "    }\n",
       "\n",
       "    .dataframe tbody tr th {\n",
       "        vertical-align: top;\n",
       "    }\n",
       "\n",
       "    .dataframe thead th {\n",
       "        text-align: right;\n",
       "    }\n",
       "</style>\n",
       "<table border=\"1\" class=\"dataframe\">\n",
       "  <thead>\n",
       "    <tr style=\"text-align: right;\">\n",
       "      <th></th>\n",
       "      <th>Zero Values</th>\n",
       "      <th>Space Values</th>\n",
       "      <th>% of Total Values</th>\n",
       "      <th>Total Zero and Space Values</th>\n",
       "      <th>% Total Zero and Space Values</th>\n",
       "      <th>Data Type</th>\n",
       "    </tr>\n",
       "  </thead>\n",
       "  <tbody>\n",
       "  </tbody>\n",
       "</table>\n",
       "</div>"
      ],
      "text/plain": [
       "Empty DataFrame\n",
       "Columns: [Zero Values, Space Values, % of Total Values, Total Zero and Space Values, % Total Zero and Space Values, Data Type]\n",
       "Index: []"
      ]
     },
     "execution_count": 18,
     "metadata": {},
     "output_type": "execute_result"
    }
   ],
   "source": [
    "ds.space_zero_values_table(df_train)"
   ]
  },
  {
   "cell_type": "code",
   "execution_count": 19,
   "metadata": {},
   "outputs": [
    {
     "data": {
      "text/plain": [
       "'ds.space_zero_values_table(df_test)'"
      ]
     },
     "execution_count": 19,
     "metadata": {},
     "output_type": "execute_result"
    }
   ],
   "source": [
    "'''ds.space_zero_values_table(df_test)'''"
   ]
  },
  {
   "cell_type": "code",
   "execution_count": 20,
   "metadata": {},
   "outputs": [],
   "source": [
    "# приведем к нужным типам столбцы df_train для снижения потребления памяти\n",
    "df_train['id'] = df_train['id'].astype('object')\n",
    "df_train['priority'] = df_train['priority'].astype('int32')\n",
    "df_train['index_oper'] = df_train['index_oper'].astype('float64')\n",
    "df_train['class'] = df_train['class'].astype('int8')\n",
    "df_train['weight'] = df_train['weight'].astype('int32')\n",
    "df_train['mailtype'] = df_train['mailtype'].astype('int8') \n",
    "df_train['mailctg'] = df_train['mailctg'].astype('object')\n",
    "df_train['mailrank'] = df_train['mailrank'].astype('int8') # вообще можно удалить этот столбец, там одни нули\n",
    "df_train['directctg'] = df_train['directctg'].astype('int8')\n",
    "df_train['postmark'] = df_train['postmark'].astype('int32')\n",
    "df_train['dist_qty_oper_login_1'] = df_train['dist_qty_oper_login_1'].astype('int32')\n",
    "df_train['is_wrong_sndr_name'] = df_train['is_wrong_sndr_name'].astype('int8')\n",
    "df_train['is_wrong_rcpn_name'] = df_train['is_wrong_rcpn_name'].astype('int8')\n",
    "df_train['is_wrong_phone_number'] = df_train['is_wrong_phone_number'].astype('int8')\n",
    "df_train['is_wrong_address'] = df_train['is_wrong_address'].astype('int8')\n",
    "df_train['label'] = df_train['label'].astype('int8')\n",
    "\n",
    "#удалим столбец с нулями\n",
    "#df_train = df_train.drop(['mailrank'], axis=1)"
   ]
  },
  {
   "cell_type": "code",
   "execution_count": 21,
   "metadata": {},
   "outputs": [],
   "source": [
    "# приведем к нужным типам столбцы df_test для снижения потребления памяти\n",
    "df_test['id'] = df_test['id'].astype('object')\n",
    "df_test['priority'] = df_test['priority'].astype('int32')\n",
    "df_test['index_oper'] = df_test['index_oper'].astype('float64')\n",
    "df_test['class'] = df_test['class'].astype('int8')\n",
    "df_test['weight'] = df_test['weight'].astype('int32')\n",
    "df_test['mailtype'] = df_test['mailtype'].astype('int8') # вообще можно удалить этот столбец, там одни нули\n",
    "df_test['mailctg'] = df_test['mailctg'].astype('object')\n",
    "df_test['mailrank'] = df_test['mailrank'].astype('int8')\n",
    "df_test['directctg'] = df_test['directctg'].astype('int8')\n",
    "df_test['postmark'] = df_test['postmark'].astype('int32')\n",
    "df_test['dist_qty_oper_login_1'] = df_test['dist_qty_oper_login_1'].astype('int32')\n",
    "df_test['is_wrong_sndr_name'] = df_test['is_wrong_sndr_name'].astype('int8')\n",
    "df_test['is_wrong_rcpn_name'] = df_test['is_wrong_rcpn_name'].astype('int8')\n",
    "df_test['is_wrong_phone_number'] = df_test['is_wrong_phone_number'].astype('int8')\n",
    "df_test['is_wrong_address'] = df_test['is_wrong_address'].astype('int8')\n",
    "\n",
    "#удалим столбец с нулями\n",
    "#df_test = df_test.drop(['mailrank'], axis=1) "
   ]
  },
  {
   "cell_type": "code",
   "execution_count": 22,
   "metadata": {},
   "outputs": [
    {
     "name": "stdout",
     "output_type": "stream",
     "text": [
      "Дубликатов выявлено: df_train: 0\n",
      "Дубликатов выявлено: df_test: 0\n",
      "Дубликатов выявлено: df_sample_solution 0\n",
      "Дубликатов выявлено: df_train['id'] 0\n"
     ]
    }
   ],
   "source": [
    "# проверим на дубликаты\n",
    "print(\"Дубликатов выявлено: df_train:\", df_train.duplicated().sum())\n",
    "print(\"Дубликатов выявлено: df_test:\", df_test.duplicated().sum())\n",
    "print(\"Дубликатов выявлено: df_sample_solution\", df_sample_solution.duplicated().sum())\n",
    "print(\"Дубликатов выявлено: df_train['id']\", df_train['id'].duplicated().sum())"
   ]
  },
  {
   "cell_type": "code",
   "execution_count": 23,
   "metadata": {},
   "outputs": [],
   "source": [
    "# приконкатенируем к отдельным категориальным признакам обычную строку (иначе выпадает модель в ошибку)\n",
    "df_train['index_oper'] = df_train['index_oper'].astype(str) + '_index_oper'\n",
    "df_test['index_oper'] = df_test['index_oper'].astype(str) + '_index_oper'\n",
    "\n",
    "df_train['mailctg'] = df_train['mailctg'].astype(str) + '_mailctg'\n",
    "df_test['mailctg'] = df_test['mailctg'].astype(str) + '_mailctg'"
   ]
  },
  {
   "cell_type": "code",
   "execution_count": 24,
   "metadata": {},
   "outputs": [
    {
     "name": "stdout",
     "output_type": "stream",
     "text": [
      "<class 'pandas.core.frame.DataFrame'>\n",
      "RangeIndex: 6000000 entries, 0 to 5999999\n",
      "Data columns (total 29 columns):\n",
      " #   Column                         Dtype \n",
      "---  ------                         ----- \n",
      " 0   id                             object\n",
      " 1   oper_type + oper_attr          object\n",
      " 2   index_oper                     object\n",
      " 3   type                           object\n",
      " 4   priority                       int32 \n",
      " 5   is_privatecategory             object\n",
      " 6   class                          int8  \n",
      " 7   is_in_yandex                   object\n",
      " 8   is_return                      object\n",
      " 9   weight                         int32 \n",
      " 10  mailtype                       int8  \n",
      " 11  mailctg                        object\n",
      " 12  mailrank                       int8  \n",
      " 13  directctg                      int8  \n",
      " 14  transport_pay                  int32 \n",
      " 15  postmark                       int32 \n",
      " 16  name_mfi                       object\n",
      " 17  weight_mfi                     int32 \n",
      " 18  price_mfi                      int32 \n",
      " 19  dist_qty_oper_login_1          int32 \n",
      " 20  total_qty_oper_login_1         int32 \n",
      " 21  total_qty_oper_login_0         int32 \n",
      " 22  total_qty_over_index_and_type  int32 \n",
      " 23  total_qty_over_index           int32 \n",
      " 24  is_wrong_sndr_name             int8  \n",
      " 25  is_wrong_rcpn_name             int8  \n",
      " 26  is_wrong_phone_number          int8  \n",
      " 27  is_wrong_address               int8  \n",
      " 28  label                          int8  \n",
      "dtypes: int32(11), int8(9), object(9)\n",
      "memory usage: 715.3+ MB\n"
     ]
    }
   ],
   "source": [
    "# создадим списки признаков по типам:\n",
    "# 'int' признаки\n",
    "num_columns = df_train.select_dtypes(include='int', exclude=None).columns\n",
    "df_train[num_columns] = df_train[num_columns].astype('float64')\n",
    "\n",
    "# 'float64' признаки\n",
    "num_columns_float = df_train.select_dtypes(include='float64', exclude=None).columns\n",
    "df_train[num_columns_float] = df_train[num_columns_float].astype('int')\n",
    "\n",
    "df_train.info()"
   ]
  },
  {
   "cell_type": "code",
   "execution_count": 25,
   "metadata": {},
   "outputs": [
    {
     "name": "stdout",
     "output_type": "stream",
     "text": [
      "<class 'pandas.core.frame.DataFrame'>\n",
      "RangeIndex: 4000000 entries, 0 to 3999999\n",
      "Data columns (total 28 columns):\n",
      " #   Column                         Dtype \n",
      "---  ------                         ----- \n",
      " 0   id                             object\n",
      " 1   oper_type + oper_attr          object\n",
      " 2   index_oper                     object\n",
      " 3   type                           object\n",
      " 4   priority                       int32 \n",
      " 5   is_privatecategory             object\n",
      " 6   class                          int8  \n",
      " 7   is_in_yandex                   object\n",
      " 8   is_return                      object\n",
      " 9   weight                         int32 \n",
      " 10  mailtype                       int8  \n",
      " 11  mailctg                        object\n",
      " 12  mailrank                       int8  \n",
      " 13  directctg                      int8  \n",
      " 14  transport_pay                  int32 \n",
      " 15  postmark                       int32 \n",
      " 16  name_mfi                       object\n",
      " 17  weight_mfi                     int32 \n",
      " 18  price_mfi                      int32 \n",
      " 19  dist_qty_oper_login_1          int32 \n",
      " 20  total_qty_oper_login_1         int32 \n",
      " 21  total_qty_oper_login_0         int32 \n",
      " 22  total_qty_over_index_and_type  int32 \n",
      " 23  total_qty_over_index           int32 \n",
      " 24  is_wrong_sndr_name             int8  \n",
      " 25  is_wrong_rcpn_name             int8  \n",
      " 26  is_wrong_phone_number          int8  \n",
      " 27  is_wrong_address               int8  \n",
      "dtypes: int32(11), int8(8), object(9)\n",
      "memory usage: 473.0+ MB\n"
     ]
    }
   ],
   "source": [
    "num_columns = df_test.select_dtypes(include='int', exclude=None).columns\n",
    "df_test[num_columns] = df_test[num_columns].astype('float64')\n",
    "\n",
    "num_columns_float = df_test.select_dtypes(include='float64', exclude=None).columns\n",
    "df_test[num_columns_float] = df_test[num_columns_float].astype('int')\n",
    "\n",
    "df_test.info()"
   ]
  },
  {
   "cell_type": "code",
   "execution_count": 26,
   "metadata": {
    "colab": {
     "base_uri": "https://localhost:8080/"
    },
    "id": "Gq6HjkgCeQSy",
    "outputId": "116bd91c-afbb-4f05-d00c-0fe95784afd3"
   },
   "outputs": [
    {
     "data": {
      "text/plain": [
       "0    5829020\n",
       "1     170980\n",
       "Name: label, dtype: int64"
      ]
     },
     "execution_count": 26,
     "metadata": {},
     "output_type": "execute_result"
    }
   ],
   "source": [
    "# посмотрим на дисбаланс предсказываемого класса\n",
    "df_train[\"label\"].value_counts()"
   ]
  },
  {
   "cell_type": "code",
   "execution_count": 27,
   "metadata": {
    "colab": {
     "base_uri": "https://localhost:8080/",
     "height": 308
    },
    "id": "Krz0nM-8-G4I",
    "outputId": "501334c5-0b52-433e-bb9e-e9291ae02edf"
   },
   "outputs": [
    {
     "data": {
      "text/plain": [
       "<AxesSubplot:xlabel='class', ylabel='count'>"
      ]
     },
     "execution_count": 27,
     "metadata": {},
     "output_type": "execute_result"
    },
    {
     "data": {
      "image/png": "[encoded data removed]",
      "text/plain": [
       "<Figure size 432x288 with 1 Axes>"
      ]
     },
     "metadata": {
      "needs_background": "light"
     },
     "output_type": "display_data"
    }
   ],
   "source": [
    "# построим график распределения по признаку \"class\"\n",
    "sns.countplot(x = \"class\" , data  = df_train) "
   ]
  },
  {
   "cell_type": "code",
   "execution_count": 28,
   "metadata": {
    "colab": {
     "base_uri": "https://localhost:8080/",
     "height": 297
    },
    "id": "1GeTGVkE-lC8",
    "outputId": "e392c639-4fe4-4c50-bc03-99db9b90fb2a"
   },
   "outputs": [],
   "source": [
    "# очень долго строится\n",
    "#sns.countplot(x = \"weight\" , data  = df_train) "
   ]
  },
  {
   "cell_type": "code",
   "execution_count": 29,
   "metadata": {},
   "outputs": [
    {
     "name": "stdout",
     "output_type": "stream",
     "text": [
      "Your selected dataframe has 29 columns and 6000000 Rows.\n",
      "There are 0 columns that have missing values.\n",
      "Number of rows that have at least one NaN 0  or  0.0%\n"
     ]
    },
    {
     "data": {
      "text/html": [
       "<div>\n",
       "<style scoped>\n",
       "    .dataframe tbody tr th:only-of-type {\n",
       "        vertical-align: middle;\n",
       "    }\n",
       "\n",
       "    .dataframe tbody tr th {\n",
       "        vertical-align: top;\n",
       "    }\n",
       "\n",
       "    .dataframe thead th {\n",
       "        text-align: right;\n",
       "    }\n",
       "</style>\n",
       "<table border=\"1\" class=\"dataframe\">\n",
       "  <thead>\n",
       "    <tr style=\"text-align: right;\">\n",
       "      <th></th>\n",
       "      <th>Zero Values</th>\n",
       "      <th>Missing Values</th>\n",
       "      <th>% of Total Values</th>\n",
       "      <th>Total Zero and Missing Values</th>\n",
       "      <th>% Total Zero and Missing Values</th>\n",
       "      <th>Data Type</th>\n",
       "    </tr>\n",
       "  </thead>\n",
       "  <tbody>\n",
       "  </tbody>\n",
       "</table>\n",
       "</div>"
      ],
      "text/plain": [
       "Empty DataFrame\n",
       "Columns: [Zero Values, Missing Values, % of Total Values, Total Zero and Missing Values, % Total Zero and Missing Values, Data Type]\n",
       "Index: []"
      ]
     },
     "execution_count": 29,
     "metadata": {},
     "output_type": "execute_result"
    }
   ],
   "source": [
    "# Посмотрим статистику датасета по пропускам\n",
    "ds.missing_zero_values_table(df_train)"
   ]
  },
  {
   "cell_type": "code",
   "execution_count": 30,
   "metadata": {},
   "outputs": [
    {
     "name": "stdout",
     "output_type": "stream",
     "text": [
      "Your selected dataframe has 28 columns and 4000000 Rows.\n",
      "There are 0 columns that have missing values.\n",
      "Number of rows that have at least one NaN 0  or  0.0%\n"
     ]
    },
    {
     "data": {
      "text/html": [
       "<div>\n",
       "<style scoped>\n",
       "    .dataframe tbody tr th:only-of-type {\n",
       "        vertical-align: middle;\n",
       "    }\n",
       "\n",
       "    .dataframe tbody tr th {\n",
       "        vertical-align: top;\n",
       "    }\n",
       "\n",
       "    .dataframe thead th {\n",
       "        text-align: right;\n",
       "    }\n",
       "</style>\n",
       "<table border=\"1\" class=\"dataframe\">\n",
       "  <thead>\n",
       "    <tr style=\"text-align: right;\">\n",
       "      <th></th>\n",
       "      <th>Zero Values</th>\n",
       "      <th>Missing Values</th>\n",
       "      <th>% of Total Values</th>\n",
       "      <th>Total Zero and Missing Values</th>\n",
       "      <th>% Total Zero and Missing Values</th>\n",
       "      <th>Data Type</th>\n",
       "    </tr>\n",
       "  </thead>\n",
       "  <tbody>\n",
       "  </tbody>\n",
       "</table>\n",
       "</div>"
      ],
      "text/plain": [
       "Empty DataFrame\n",
       "Columns: [Zero Values, Missing Values, % of Total Values, Total Zero and Missing Values, % Total Zero and Missing Values, Data Type]\n",
       "Index: []"
      ]
     },
     "execution_count": 30,
     "metadata": {},
     "output_type": "execute_result"
    }
   ],
   "source": [
    "# Посмотрим статистику датасета по пропускам\n",
    "ds.missing_zero_values_table(df_test)"
   ]
  },
  {
   "cell_type": "code",
   "execution_count": 31,
   "metadata": {
    "colab": {
     "base_uri": "https://localhost:8080/",
     "height": 939
    },
    "id": "LQNuW50pgJYa",
    "outputId": "cc7afb7c-78f0-4650-d834-77329306ec7e"
   },
   "outputs": [
    {
     "data": {
      "text/plain": [
       "\"plt.rcParams['figure.figsize']=(20,20)\\ncorr = df_train.iloc[:100000].round(1).corr()\\ncorr = corr.corr()\\ng = sns.heatmap(corr, square = True, annot=True)\""
      ]
     },
     "execution_count": 31,
     "metadata": {},
     "output_type": "execute_result"
    }
   ],
   "source": [
    "'''plt.rcParams['figure.figsize']=(20,20)\n",
    "corr = df_train.iloc[:100000].round(1).corr()\n",
    "corr = corr.corr()\n",
    "g = sns.heatmap(corr, square = True, annot=True)'''"
   ]
  },
  {
   "cell_type": "code",
   "execution_count": 32,
   "metadata": {},
   "outputs": [
    {
     "name": "stdout",
     "output_type": "stream",
     "text": [
      "interval columns not set, guessing: ['priority', 'class', 'weight', 'mailtype', 'mailrank', 'directctg', 'transport_pay', 'postmark', 'weight_mfi', 'price_mfi', 'dist_qty_oper_login_1', 'total_qty_oper_login_1', 'total_qty_oper_login_0', 'total_qty_over_index_and_type', 'total_qty_over_index', 'is_wrong_sndr_name', 'is_wrong_rcpn_name', 'is_wrong_phone_number', 'is_wrong_address', 'label']\n"
     ]
    },
    {
     "data": {
      "image/png": "[encoded data removed]",
      "text/plain": [
       "<Figure size 1440x1440 with 2 Axes>"
      ]
     },
     "metadata": {
      "needs_background": "light"
     },
     "output_type": "display_data"
    }
   ],
   "source": [
    "# Построим матрицу корреляции через фи-корреляцию (phik), c помощью \n",
    "# которой можно изучать корреляцию признаков \n",
    "phik_overview = df_train.iloc[:1000].phik_matrix()\n",
    "phik_overview = phik_overview.round(2)\n",
    "# визуализируем полученную матрицу фи-корреляции\n",
    "plot_correlation_matrix(phik_overview.values, \n",
    "                        x_labels=phik_overview.columns, \n",
    "                        y_labels=phik_overview.index, \n",
    "                        vmin=0, vmax=1, color_map=\"Greens\", \n",
    "                        title=r\"correlation $\\phi_K$\", \n",
    "                        #fontsize_factor=1.5, \n",
    "                        figsize=(20, 20))\n",
    "plt.tight_layout()"
   ]
  },
  {
   "cell_type": "code",
   "execution_count": 33,
   "metadata": {},
   "outputs": [
    {
     "data": {
      "text/html": [
       "<style type=\"text/css\">\n",
       "#T_37eca_row0_col0 {\n",
       "  width: 10em;\n",
       "  background: linear-gradient(90deg, #d65f5f 100.0%, transparent 100.0%);\n",
       "}\n",
       "#T_37eca_row1_col0 {\n",
       "  width: 10em;\n",
       "  background: linear-gradient(90deg, #d65f5f 34.9%, transparent 34.9%);\n",
       "}\n",
       "#T_37eca_row2_col0 {\n",
       "  width: 10em;\n",
       "  background: linear-gradient(90deg, #d65f5f 28.2%, transparent 28.2%);\n",
       "}\n",
       "#T_37eca_row3_col0 {\n",
       "  width: 10em;\n",
       "  background: linear-gradient(90deg, #d65f5f 24.5%, transparent 24.5%);\n",
       "}\n",
       "#T_37eca_row4_col0 {\n",
       "  width: 10em;\n",
       "  background: linear-gradient(90deg, #d65f5f 18.6%, transparent 18.6%);\n",
       "}\n",
       "#T_37eca_row5_col0 {\n",
       "  width: 10em;\n",
       "  background: linear-gradient(90deg, #d65f5f 16.7%, transparent 16.7%);\n",
       "}\n",
       "#T_37eca_row6_col0 {\n",
       "  width: 10em;\n",
       "  background: linear-gradient(90deg, #d65f5f 12.6%, transparent 12.6%);\n",
       "}\n",
       "#T_37eca_row7_col0 {\n",
       "  width: 10em;\n",
       "  background: linear-gradient(90deg, #d65f5f 11.3%, transparent 11.3%);\n",
       "}\n",
       "#T_37eca_row8_col0 {\n",
       "  width: 10em;\n",
       "  background: linear-gradient(90deg, #d65f5f 10.1%, transparent 10.1%);\n",
       "}\n",
       "#T_37eca_row9_col0 {\n",
       "  width: 10em;\n",
       "  background: linear-gradient(90deg, #d65f5f 9.5%, transparent 9.5%);\n",
       "}\n",
       "#T_37eca_row10_col0 {\n",
       "  width: 10em;\n",
       "  background: linear-gradient(90deg, #d65f5f 9.3%, transparent 9.3%);\n",
       "}\n",
       "#T_37eca_row11_col0 {\n",
       "  width: 10em;\n",
       "  background: linear-gradient(90deg, #d65f5f 8.4%, transparent 8.4%);\n",
       "}\n",
       "#T_37eca_row12_col0 {\n",
       "  width: 10em;\n",
       "  background: linear-gradient(90deg, #d65f5f 6.5%, transparent 6.5%);\n",
       "}\n",
       "#T_37eca_row13_col0 {\n",
       "  width: 10em;\n",
       "  background: linear-gradient(90deg, #d65f5f 6.3%, transparent 6.3%);\n",
       "}\n",
       "#T_37eca_row14_col0 {\n",
       "  width: 10em;\n",
       "  background: linear-gradient(90deg, #d65f5f 5.7%, transparent 5.7%);\n",
       "}\n",
       "#T_37eca_row15_col0 {\n",
       "  width: 10em;\n",
       "  background: linear-gradient(90deg, #d65f5f 4.9%, transparent 4.9%);\n",
       "}\n",
       "#T_37eca_row16_col0 {\n",
       "  width: 10em;\n",
       "  background: linear-gradient(90deg, #d65f5f 2.3%, transparent 2.3%);\n",
       "}\n",
       "#T_37eca_row17_col0 {\n",
       "  width: 10em;\n",
       "  background: linear-gradient(90deg, #d65f5f 0.8%, transparent 0.8%);\n",
       "}\n",
       "#T_37eca_row18_col0 {\n",
       "  width: 10em;\n",
       "  background: linear-gradient(90deg, #d65f5f 0.3%, transparent 0.3%);\n",
       "}\n",
       "#T_37eca_row19_col0, #T_37eca_row20_col0, #T_37eca_row21_col0 {\n",
       "  width: 10em;\n",
       "  background: linear-gradient(90deg, #d65f5f 0.2%, transparent 0.2%);\n",
       "}\n",
       "#T_37eca_row22_col0, #T_37eca_row23_col0, #T_37eca_row24_col0 {\n",
       "  width: 10em;\n",
       "  background: linear-gradient(90deg, #d65f5f 0.0%, transparent 0.0%);\n",
       "}\n",
       "#T_37eca_row25_col0, #T_37eca_row26_col0, #T_37eca_row27_col0 {\n",
       "  width: 10em;\n",
       "}\n",
       "</style>\n",
       "<table id=\"T_37eca\">\n",
       "  <thead>\n",
       "    <tr>\n",
       "      <th class=\"blank level0\" >&nbsp;</th>\n",
       "      <th id=\"T_37eca_level0_col0\" class=\"col_heading level0 col0\" >Важность признаков для CatBoostClassifier</th>\n",
       "    </tr>\n",
       "  </thead>\n",
       "  <tbody>\n",
       "    <tr>\n",
       "      <th id=\"T_37eca_level0_row0\" class=\"row_heading level0 row0\" >oper_type + oper_attr</th>\n",
       "      <td id=\"T_37eca_row0_col0\" class=\"data row0 col0\" >32.096375</td>\n",
       "    </tr>\n",
       "    <tr>\n",
       "      <th id=\"T_37eca_level0_row1\" class=\"row_heading level0 row1\" >total_qty_oper_login_1</th>\n",
       "      <td id=\"T_37eca_row1_col0\" class=\"data row1 col0\" >11.204370</td>\n",
       "    </tr>\n",
       "    <tr>\n",
       "      <th id=\"T_37eca_level0_row2\" class=\"row_heading level0 row2\" >mailctg</th>\n",
       "      <td id=\"T_37eca_row2_col0\" class=\"data row2 col0\" >9.044658</td>\n",
       "    </tr>\n",
       "    <tr>\n",
       "      <th id=\"T_37eca_level0_row3\" class=\"row_heading level0 row3\" >total_qty_oper_login_0</th>\n",
       "      <td id=\"T_37eca_row3_col0\" class=\"data row3 col0\" >7.861624</td>\n",
       "    </tr>\n",
       "    <tr>\n",
       "      <th id=\"T_37eca_level0_row4\" class=\"row_heading level0 row4\" >dist_qty_oper_login_1</th>\n",
       "      <td id=\"T_37eca_row4_col0\" class=\"data row4 col0\" >5.981940</td>\n",
       "    </tr>\n",
       "    <tr>\n",
       "      <th id=\"T_37eca_level0_row5\" class=\"row_heading level0 row5\" >total_qty_over_index_and_type</th>\n",
       "      <td id=\"T_37eca_row5_col0\" class=\"data row5 col0\" >5.360359</td>\n",
       "    </tr>\n",
       "    <tr>\n",
       "      <th id=\"T_37eca_level0_row6\" class=\"row_heading level0 row6\" >weight</th>\n",
       "      <td id=\"T_37eca_row6_col0\" class=\"data row6 col0\" >4.052931</td>\n",
       "    </tr>\n",
       "    <tr>\n",
       "      <th id=\"T_37eca_level0_row7\" class=\"row_heading level0 row7\" >total_qty_over_index</th>\n",
       "      <td id=\"T_37eca_row7_col0\" class=\"data row7 col0\" >3.611682</td>\n",
       "    </tr>\n",
       "    <tr>\n",
       "      <th id=\"T_37eca_level0_row8\" class=\"row_heading level0 row8\" >is_wrong_phone_number</th>\n",
       "      <td id=\"T_37eca_row8_col0\" class=\"data row8 col0\" >3.226976</td>\n",
       "    </tr>\n",
       "    <tr>\n",
       "      <th id=\"T_37eca_level0_row9\" class=\"row_heading level0 row9\" >name_mfi</th>\n",
       "      <td id=\"T_37eca_row9_col0\" class=\"data row9 col0\" >3.034149</td>\n",
       "    </tr>\n",
       "    <tr>\n",
       "      <th id=\"T_37eca_level0_row10\" class=\"row_heading level0 row10\" >transport_pay</th>\n",
       "      <td id=\"T_37eca_row10_col0\" class=\"data row10 col0\" >2.992637</td>\n",
       "    </tr>\n",
       "    <tr>\n",
       "      <th id=\"T_37eca_level0_row11\" class=\"row_heading level0 row11\" >index_oper</th>\n",
       "      <td id=\"T_37eca_row11_col0\" class=\"data row11 col0\" >2.681625</td>\n",
       "    </tr>\n",
       "    <tr>\n",
       "      <th id=\"T_37eca_level0_row12\" class=\"row_heading level0 row12\" >price_mfi</th>\n",
       "      <td id=\"T_37eca_row12_col0\" class=\"data row12 col0\" >2.098092</td>\n",
       "    </tr>\n",
       "    <tr>\n",
       "      <th id=\"T_37eca_level0_row13\" class=\"row_heading level0 row13\" >weight_mfi</th>\n",
       "      <td id=\"T_37eca_row13_col0\" class=\"data row13 col0\" >2.017926</td>\n",
       "    </tr>\n",
       "    <tr>\n",
       "      <th id=\"T_37eca_level0_row14\" class=\"row_heading level0 row14\" >is_wrong_rcpn_name</th>\n",
       "      <td id=\"T_37eca_row14_col0\" class=\"data row14 col0\" >1.826638</td>\n",
       "    </tr>\n",
       "    <tr>\n",
       "      <th id=\"T_37eca_level0_row15\" class=\"row_heading level0 row15\" >type</th>\n",
       "      <td id=\"T_37eca_row15_col0\" class=\"data row15 col0\" >1.587517</td>\n",
       "    </tr>\n",
       "    <tr>\n",
       "      <th id=\"T_37eca_level0_row16\" class=\"row_heading level0 row16\" >is_in_yandex</th>\n",
       "      <td id=\"T_37eca_row16_col0\" class=\"data row16 col0\" >0.752696</td>\n",
       "    </tr>\n",
       "    <tr>\n",
       "      <th id=\"T_37eca_level0_row17\" class=\"row_heading level0 row17\" >priority</th>\n",
       "      <td id=\"T_37eca_row17_col0\" class=\"data row17 col0\" >0.250486</td>\n",
       "    </tr>\n",
       "    <tr>\n",
       "      <th id=\"T_37eca_level0_row18\" class=\"row_heading level0 row18\" >class</th>\n",
       "      <td id=\"T_37eca_row18_col0\" class=\"data row18 col0\" >0.096410</td>\n",
       "    </tr>\n",
       "    <tr>\n",
       "      <th id=\"T_37eca_level0_row19\" class=\"row_heading level0 row19\" >is_privatecategory</th>\n",
       "      <td id=\"T_37eca_row19_col0\" class=\"data row19 col0\" >0.079773</td>\n",
       "    </tr>\n",
       "    <tr>\n",
       "      <th id=\"T_37eca_level0_row20\" class=\"row_heading level0 row20\" >is_wrong_address</th>\n",
       "      <td id=\"T_37eca_row20_col0\" class=\"data row20 col0\" >0.062631</td>\n",
       "    </tr>\n",
       "    <tr>\n",
       "      <th id=\"T_37eca_level0_row21\" class=\"row_heading level0 row21\" >directctg</th>\n",
       "      <td id=\"T_37eca_row21_col0\" class=\"data row21 col0\" >0.057970</td>\n",
       "    </tr>\n",
       "    <tr>\n",
       "      <th id=\"T_37eca_level0_row22\" class=\"row_heading level0 row22\" >is_return</th>\n",
       "      <td id=\"T_37eca_row22_col0\" class=\"data row22 col0\" >0.013257</td>\n",
       "    </tr>\n",
       "    <tr>\n",
       "      <th id=\"T_37eca_level0_row23\" class=\"row_heading level0 row23\" >mailtype</th>\n",
       "      <td id=\"T_37eca_row23_col0\" class=\"data row23 col0\" >0.004310</td>\n",
       "    </tr>\n",
       "    <tr>\n",
       "      <th id=\"T_37eca_level0_row24\" class=\"row_heading level0 row24\" >is_wrong_sndr_name</th>\n",
       "      <td id=\"T_37eca_row24_col0\" class=\"data row24 col0\" >0.002967</td>\n",
       "    </tr>\n",
       "    <tr>\n",
       "      <th id=\"T_37eca_level0_row25\" class=\"row_heading level0 row25\" >postmark</th>\n",
       "      <td id=\"T_37eca_row25_col0\" class=\"data row25 col0\" >0.000000</td>\n",
       "    </tr>\n",
       "    <tr>\n",
       "      <th id=\"T_37eca_level0_row26\" class=\"row_heading level0 row26\" >mailrank</th>\n",
       "      <td id=\"T_37eca_row26_col0\" class=\"data row26 col0\" >0.000000</td>\n",
       "    </tr>\n",
       "    <tr>\n",
       "      <th id=\"T_37eca_level0_row27\" class=\"row_heading level0 row27\" >id</th>\n",
       "      <td id=\"T_37eca_row27_col0\" class=\"data row27 col0\" >0.000000</td>\n",
       "    </tr>\n",
       "  </tbody>\n",
       "</table>\n"
      ],
      "text/plain": [
       "<pandas.io.formats.style.Styler at 0x1bb8a6ce880>"
      ]
     },
     "execution_count": 33,
     "metadata": {},
     "output_type": "execute_result"
    }
   ],
   "source": [
    "# посмотрим, какие признаки модель CatBoostClassifier оценивает как наиболее важные\n",
    "features_catboost_importance = df_train.drop(['label'], axis = 1).head(1000000)\n",
    "target_catboost_importance = df_train['label'].head(1000000)\n",
    "\n",
    "cat_features_categories = list(features_catboost_importance.select_dtypes('object').columns)\n",
    "\n",
    "catboost = CatBoostClassifier(random_seed=RANDOM_STATE, silent=True, task_type = \"GPU\").fit(features_catboost_importance, target_catboost_importance, cat_features=cat_features_categories)\n",
    "features_importance = catboost.get_feature_importance()\n",
    "pd.DataFrame(features_importance, index=features_catboost_importance.dtypes.index, columns=['Важность признаков для CatBoostClassifier'])\\\n",
    "    .sort_values(by='Важность признаков для CatBoostClassifier', ascending = False).style.bar()"
   ]
  },
  {
   "cell_type": "code",
   "execution_count": 34,
   "metadata": {},
   "outputs": [
    {
     "name": "stdout",
     "output_type": "stream",
     "text": [
      "oper_type + oper_attr\n",
      "1020_-1    693154\n",
      "1022_-1    656597\n",
      "1019_-1    413710\n",
      "8_0        402877\n",
      "1_-1       359402\n",
      "            ...  \n",
      "2_2             1\n",
      "12_6            1\n",
      "2_11            1\n",
      "2_10            1\n",
      "1009_-1         1\n",
      "Name: oper_type + oper_attr, Length: 109, dtype: int64\n",
      "--------------------------------------------\n",
      "--------------------------------------------\n",
      "--------------------------------------------\n",
      "total_qty_oper_login_1\n",
      "48856658    795886\n",
      "64270133    334082\n",
      "67541214    329741\n",
      "68766046    272750\n",
      "76138189    159450\n",
      "             ...  \n",
      "38514            1\n",
      "106624           1\n",
      "5791             1\n",
      "44447            1\n",
      "9588             1\n",
      "Name: total_qty_oper_login_1, Length: 18377, dtype: int64\n",
      "--------------------------------------------\n",
      "--------------------------------------------\n",
      "--------------------------------------------\n",
      "dist_qty_oper_login_1\n",
      "914     795886\n",
      "1089    334082\n",
      "184     329741\n",
      "972     272750\n",
      "153     239368\n",
      "         ...  \n",
      "75           3\n",
      "135          1\n",
      "222          1\n",
      "89           1\n",
      "95           1\n",
      "Name: dist_qty_oper_login_1, Length: 165, dtype: int64\n",
      "--------------------------------------------\n",
      "--------------------------------------------\n",
      "--------------------------------------------\n",
      "mailctg\n",
      "1.0_mailctg     4688317\n",
      "0.0_mailctg     1257102\n",
      "-1.0_mailctg      54015\n",
      "3.0_mailctg         546\n",
      "5.0_mailctg          20\n",
      "Name: mailctg, dtype: int64\n",
      "--------------------------------------------\n",
      "--------------------------------------------\n",
      "--------------------------------------------\n",
      "total_qty_oper_login_0\n",
      "83318932     795886\n",
      "116432632    334082\n",
      "7870         329741\n",
      "91123247     272750\n",
      "8747         159450\n",
      "              ...  \n",
      "15936             1\n",
      "19165             1\n",
      "55367             1\n",
      "10047             1\n",
      "9755              1\n",
      "Name: total_qty_oper_login_0, Length: 9351, dtype: int64\n",
      "--------------------------------------------\n",
      "--------------------------------------------\n",
      "--------------------------------------------\n",
      "total_qty_over_index_and_type\n",
      "132175590    795886\n",
      "180702765    334082\n",
      "67549084     329741\n",
      "159889293    272750\n",
      "76146936     159450\n",
      "              ...  \n",
      "405817            1\n",
      "37450             1\n",
      "38834             1\n",
      "8291              1\n",
      "368597            1\n",
      "Name: total_qty_over_index_and_type, Length: 20097, dtype: int64\n",
      "--------------------------------------------\n",
      "--------------------------------------------\n",
      "--------------------------------------------\n",
      "name_mfi\n",
      "0                                                                           815434\n",
      "Mobile Phone Bags & Cases                                                    48165\n",
      "Screen Protectors                                                            45032\n",
      "phone case                                                                   42696\n",
      "Phone Case                                                                   25031\n",
      "                                                                             ...  \n",
      "BRUSH(X-DZS-2inch)                                                               1\n",
      "car led light(b-ty-highlander-15/18)                                             1\n",
      "iPhone glass(1005001915468400)                                                   1\n",
      "Tops,Women_s Jacket/T shirt,Women's Jacket/T shirt                               1\n",
      "Piston Rings PR-PW60-2SET(PR-PW60-2SET),Piston Rings PR-PW60-2SET(PR-PW6         1\n",
      "Name: name_mfi, Length: 212936, dtype: int64\n",
      "--------------------------------------------\n",
      "--------------------------------------------\n",
      "--------------------------------------------\n",
      "type\n",
      "Цех               2093668\n",
      "ММПО              1614974\n",
      "Участок            926631\n",
      "ГОПС               463750\n",
      "ТИ                 305490\n",
      "П                  245814\n",
      "МСЦ                223241\n",
      "СОПС                72161\n",
      "СЦ                  12469\n",
      "ОП                   9527\n",
      "МСО                  7465\n",
      "ОПП                  7190\n",
      "АОПП                 6682\n",
      "МРП                  3850\n",
      "0                    3444\n",
      "АО                   1304\n",
      "ПЕРЕДВИЖНОЕ ОС       1006\n",
      "ППС                   682\n",
      "УМСЦ                  569\n",
      "УКД                    83\n",
      "Name: type, dtype: int64\n",
      "--------------------------------------------\n",
      "--------------------------------------------\n",
      "--------------------------------------------\n",
      "transport_pay\n",
      "0      4121103\n",
      "23       89665\n",
      "22       87307\n",
      "24       85769\n",
      "26       77327\n",
      "        ...   \n",
      "534          2\n",
      "205          2\n",
      "187          1\n",
      "216          1\n",
      "208          1\n",
      "Name: transport_pay, Length: 207, dtype: int64\n",
      "--------------------------------------------\n",
      "--------------------------------------------\n",
      "--------------------------------------------\n",
      "weight\n",
      "30      40526\n",
      "27      39534\n",
      "40      39159\n",
      "28      38781\n",
      "60      38558\n",
      "        ...  \n",
      "3570        1\n",
      "2923        1\n",
      "2814        1\n",
      "2979        1\n",
      "2760        1\n",
      "Name: weight, Length: 2809, dtype: int64\n",
      "--------------------------------------------\n",
      "--------------------------------------------\n",
      "--------------------------------------------\n",
      "index_oper\n",
      "102976.0_index_oper    1611563\n",
      "102971.0_index_oper     831679\n",
      "620984.0_index_oper     136389\n",
      "102998.0_index_oper     107961\n",
      "102968.0_index_oper      98751\n",
      "                        ...   \n",
      "659074.0_index_oper          1\n",
      "155929.0_index_oper          1\n",
      "652215.0_index_oper          1\n",
      "157211.0_index_oper          1\n",
      "422418.0_index_oper          1\n",
      "Name: index_oper, Length: 20687, dtype: int64\n",
      "--------------------------------------------\n",
      "--------------------------------------------\n",
      "--------------------------------------------\n",
      "total_qty_over_index\n",
      "136819803    795886\n",
      "188407812    334082\n",
      "72981134     329741\n",
      "164927295    272795\n",
      "84110459     159454\n",
      "              ...  \n",
      "1398              1\n",
      "12251             1\n",
      "4167              1\n",
      "20898             1\n",
      "36362             1\n",
      "Name: total_qty_over_index, Length: 35188, dtype: int64\n",
      "--------------------------------------------\n",
      "--------------------------------------------\n",
      "--------------------------------------------\n",
      "is_wrong_phone_number\n",
      "0    4974174\n",
      "1    1025826\n",
      "Name: is_wrong_phone_number, dtype: int64\n",
      "--------------------------------------------\n",
      "--------------------------------------------\n",
      "--------------------------------------------\n",
      "price_mfi\n",
      "0        816663\n",
      "100      549504\n",
      "200      367123\n",
      "500      266189\n",
      "50       196045\n",
      "          ...  \n",
      "41228         1\n",
      "6294          1\n",
      "14001         1\n",
      "3039          1\n",
      "44256         1\n",
      "Name: price_mfi, Length: 6595, dtype: int64\n",
      "--------------------------------------------\n",
      "--------------------------------------------\n",
      "--------------------------------------------\n",
      "is_wrong_rcpn_name\n",
      "0    4441358\n",
      "1    1558642\n",
      "Name: is_wrong_rcpn_name, dtype: int64\n",
      "--------------------------------------------\n",
      "--------------------------------------------\n",
      "--------------------------------------------\n",
      "weight_mfi\n",
      "0       816226\n",
      "100     170247\n",
      "50      148594\n",
      "30      127648\n",
      "20       92968\n",
      "         ...  \n",
      "2453         1\n",
      "2485         1\n",
      "2022         1\n",
      "1727         1\n",
      "1491         1\n",
      "Name: weight_mfi, Length: 2070, dtype: int64\n",
      "--------------------------------------------\n",
      "--------------------------------------------\n",
      "--------------------------------------------\n",
      "is_in_yandex\n",
      "N    3585956\n",
      "Y    2411374\n",
      "0       2670\n",
      "Name: is_in_yandex, dtype: int64\n",
      "--------------------------------------------\n",
      "--------------------------------------------\n",
      "--------------------------------------------\n",
      "label\n",
      "0    5829020\n",
      "1     170980\n",
      "Name: label, dtype: int64\n",
      "--------------------------------------------\n",
      "--------------------------------------------\n",
      "--------------------------------------------\n"
     ]
    }
   ],
   "source": [
    "# создадим предварительный список с признаками, на которых будет обучаться модель \n",
    "list_with_importance_features_train = ['oper_type + oper_attr',\n",
    "                                'total_qty_oper_login_1',\n",
    "                                'dist_qty_oper_login_1',\n",
    "                                'mailctg',\n",
    "                                'total_qty_oper_login_0',\n",
    "                                'total_qty_over_index_and_type',\n",
    "                                'name_mfi',\n",
    "                                'type',\n",
    "                                'transport_pay',\n",
    "                                'weight',\n",
    "                                'index_oper',\n",
    "                                'total_qty_over_index',\n",
    "                                'is_wrong_phone_number',\n",
    "                                'price_mfi',\n",
    "                                'is_wrong_rcpn_name',\n",
    "                                'weight_mfi',\n",
    "                                'is_in_yandex',\n",
    "                                       'label']\n",
    "\n",
    "# посмотрим на количества разных значений по признакам\n",
    "for i in list_with_importance_features_train:\n",
    "    print(i)\n",
    "    print(df_train[i].value_counts(dropna = False))\n",
    "    print('--------------------------------------------')\n",
    "    print('--------------------------------------------')\n",
    "    print('--------------------------------------------')"
   ]
  },
  {
   "cell_type": "code",
   "execution_count": 35,
   "metadata": {},
   "outputs": [],
   "source": [
    "#list_with_ignore_features_for_catboost = ['mailrank', \n",
    "#                                          'postmark', \n",
    "#                                          'is_wrong_sndr_name',\n",
    "#                                          'is_return',\n",
    "#                                          'id',\n",
    "#                                          'mailtype',\n",
    "#                                          'is_privatecategory',\n",
    "#                                          'class',\n",
    "#                                          'priority',\n",
    "#                                          'directctg',\n",
    "#                                          'is_wrong_address',\n",
    "#                                          'transport_pay']"
   ]
  },
  {
   "cell_type": "code",
   "execution_count": 36,
   "metadata": {},
   "outputs": [
    {
     "name": "stdout",
     "output_type": "stream",
     "text": [
      "interval columns not set, guessing: ['priority', 'class', 'weight', 'mailtype', 'mailrank', 'directctg', 'transport_pay', 'postmark', 'weight_mfi', 'price_mfi', 'dist_qty_oper_login_1', 'total_qty_oper_login_1', 'total_qty_oper_login_0', 'total_qty_over_index_and_type', 'total_qty_over_index', 'is_wrong_sndr_name', 'is_wrong_rcpn_name', 'is_wrong_phone_number', 'is_wrong_address', 'label']\n"
     ]
    },
    {
     "data": {
      "image/png": "[encoded data removed]",
      "text/plain": [
       "<Figure size 1440x1440 with 2 Axes>"
      ]
     },
     "metadata": {
      "needs_background": "light"
     },
     "output_type": "display_data"
    }
   ],
   "source": [
    "# Построим матрицу корреляции через фи-корреляцию (phik), c помощью \n",
    "# которой можно изучать корреляцию признаков \n",
    "phik_overview = df_train.sample(5000).phik_matrix()\n",
    "phik_overview = phik_overview.round(2)\n",
    "# визуализируем полученную матрицу фи-корреляции\n",
    "plot_correlation_matrix(phik_overview.values, \n",
    "                        x_labels=phik_overview.columns, \n",
    "                        y_labels=phik_overview.index, \n",
    "                        vmin=0, vmax=1, color_map=\"Greens\", \n",
    "                        title=r\"correlation $\\phi_K$\", \n",
    "                        #fontsize_factor=1.5, \n",
    "                        figsize=(20, 20))\n",
    "plt.tight_layout()"
   ]
  },
  {
   "cell_type": "code",
   "execution_count": 37,
   "metadata": {},
   "outputs": [],
   "source": [
    "# Построим матрицу корреляции через фи-корреляцию (phik), c помощью \n",
    "# которой можно изучать корреляцию признаков \n",
    "#phik_overview = df_test.sample(10000).phik_matrix()\n",
    "#phik_overview = phik_overview.round(2)\n",
    "# визуализируем полученную матрицу фи-корреляции\n",
    "#plot_correlation_matrix(phik_overview.values, \n",
    "#                        x_labels=phik_overview.columns, \n",
    "#                        y_labels=phik_overview.index, \n",
    "#                        vmin=0, vmax=1, color_map=\"Greens\", \n",
    "#                        title=r\"correlation $\\phi_K$\", \n",
    "                        #fontsize_factor=1.5, \n",
    "#                        figsize=(20, 20))\n",
    "#plt.tight_layout()"
   ]
  },
  {
   "cell_type": "code",
   "execution_count": 38,
   "metadata": {},
   "outputs": [],
   "source": [
    "# заменим значения в признаке df_train['weight'] на максимальное из двух признаков ввиду пропусков в одном из них:\n",
    "df_train['weight'] = df_train[['weight', 'weight_mfi']].max(axis =1)\n",
    "# удалим лишние столбцы [['weight', 'weight_mfi']]\n",
    "df_train = df_train.drop(['weight_mfi'], axis=1)\n",
    "\n",
    "# заменим значения в признаке df_test['weight']\" на максимальное из двух признаков ввиду пропусков в одном из них:\n",
    "df_test['weight'] = df_test[['weight', 'weight_mfi']].max(axis =1)\n",
    "# удалим лишние столбцы [['weight', 'weight_mfi']]\n",
    "df_test = df_test.drop(['weight_mfi'], axis=1)"
   ]
  },
  {
   "cell_type": "code",
   "execution_count": 39,
   "metadata": {},
   "outputs": [],
   "source": [
    "# удаление строк не помогло: скор ожидаемо снизился (в тестовом наборе был нули!)\n",
    "# в тестовом датасете нельзя ничего удалять, иначе не получится df_solution - но я не стал удалять и в train, поэтому не актуально"
   ]
  },
  {
   "cell_type": "markdown",
   "metadata": {},
   "source": [
    "## Формирование итогового набора признаков после изучения матрицы фи-корреляции"
   ]
  },
  {
   "cell_type": "code",
   "execution_count": 40,
   "metadata": {},
   "outputs": [
    {
     "name": "stdout",
     "output_type": "stream",
     "text": [
      "<class 'pandas.core.frame.DataFrame'>\n",
      "RangeIndex: 6000000 entries, 0 to 5999999\n",
      "Data columns (total 6 columns):\n",
      " #   Column                         Dtype \n",
      "---  ------                         ----- \n",
      " 0   oper_type + oper_attr          object\n",
      " 1   mailctg                        object\n",
      " 2   total_qty_over_index_and_type  int32 \n",
      " 3   type                           object\n",
      " 4   weight                         int32 \n",
      " 5   label                          int8  \n",
      "dtypes: int32(2), int8(1), object(3)\n",
      "memory usage: 188.8+ MB\n",
      "<class 'pandas.core.frame.DataFrame'>\n",
      "RangeIndex: 4000000 entries, 0 to 3999999\n",
      "Data columns (total 5 columns):\n",
      " #   Column                         Dtype \n",
      "---  ------                         ----- \n",
      " 0   oper_type + oper_attr          object\n",
      " 1   mailctg                        object\n",
      " 2   total_qty_over_index_and_type  int32 \n",
      " 3   type                           object\n",
      " 4   weight                         int32 \n",
      "dtypes: int32(2), object(3)\n",
      "memory usage: 122.1+ MB\n"
     ]
    }
   ],
   "source": [
    "# создадим итоговый список признаков для обучения модели на обучающем датасете: \n",
    "# для этого изучим матрицу фи-корреляции и выберем признаки, \n",
    "# которые влияют на целевой признак и при этом не дублируют друг друга (нет высокой корреляции)\n",
    "list_with_importance_features_train_01 = [\n",
    "                                'oper_type + oper_attr',\n",
    "                                #'total_qty_oper_login_1',\n",
    "                                'mailctg',\n",
    "                                'total_qty_over_index_and_type',\n",
    "                                #'name_mfi',                            \n",
    "                                'type',\n",
    "                                'weight',\n",
    "                                #'is_wrong_phone_number',\n",
    "                                'label']\n",
    "\n",
    "# сформируем итоговый обучающий датасет \n",
    "df_train = df_train[list_with_importance_features_train_01]\n",
    "df_train.info()\n",
    "\n",
    "# создадим итоговый список признаков для тестирования модели на тестовом датасете\n",
    "list_with_importance_features_test_01 = []\n",
    "for i in list_with_importance_features_train_01:\n",
    "    if i != 'label':\n",
    "        list_with_importance_features_test_01.append(i)\n",
    "\n",
    "# сформируем итоговый тестовый датасет \n",
    "df_test = df_test[list_with_importance_features_test_01]\n",
    "df_test.info()"
   ]
  },
  {
   "cell_type": "markdown",
   "metadata": {},
   "source": [
    "### Заполнение пропусков через Imputer"
   ]
  },
  {
   "cell_type": "code",
   "execution_count": 41,
   "metadata": {},
   "outputs": [
    {
     "data": {
      "text/html": [
       "<div>\n",
       "<style scoped>\n",
       "    .dataframe tbody tr th:only-of-type {\n",
       "        vertical-align: middle;\n",
       "    }\n",
       "\n",
       "    .dataframe tbody tr th {\n",
       "        vertical-align: top;\n",
       "    }\n",
       "\n",
       "    .dataframe thead th {\n",
       "        text-align: right;\n",
       "    }\n",
       "</style>\n",
       "<table border=\"1\" class=\"dataframe\">\n",
       "  <thead>\n",
       "    <tr style=\"text-align: right;\">\n",
       "      <th></th>\n",
       "      <th>total_qty_over_index_and_type</th>\n",
       "      <th>weight</th>\n",
       "      <th>label</th>\n",
       "    </tr>\n",
       "  </thead>\n",
       "  <tbody>\n",
       "    <tr>\n",
       "      <th>count</th>\n",
       "      <td>6.000000e+06</td>\n",
       "      <td>6.000000e+06</td>\n",
       "      <td>6.000000e+06</td>\n",
       "    </tr>\n",
       "    <tr>\n",
       "      <th>mean</th>\n",
       "      <td>5.673982e+07</td>\n",
       "      <td>2.518929e+02</td>\n",
       "      <td>2.849667e-02</td>\n",
       "    </tr>\n",
       "    <tr>\n",
       "      <th>std</th>\n",
       "      <td>7.290388e+07</td>\n",
       "      <td>4.556766e+02</td>\n",
       "      <td>1.663869e-01</td>\n",
       "    </tr>\n",
       "    <tr>\n",
       "      <th>min</th>\n",
       "      <td>0.000000e+00</td>\n",
       "      <td>0.000000e+00</td>\n",
       "      <td>0.000000e+00</td>\n",
       "    </tr>\n",
       "    <tr>\n",
       "      <th>25%</th>\n",
       "      <td>1.673370e+06</td>\n",
       "      <td>5.900000e+01</td>\n",
       "      <td>0.000000e+00</td>\n",
       "    </tr>\n",
       "    <tr>\n",
       "      <th>50%</th>\n",
       "      <td>1.393496e+07</td>\n",
       "      <td>1.150000e+02</td>\n",
       "      <td>0.000000e+00</td>\n",
       "    </tr>\n",
       "    <tr>\n",
       "      <th>75%</th>\n",
       "      <td>1.321756e+08</td>\n",
       "      <td>2.770000e+02</td>\n",
       "      <td>0.000000e+00</td>\n",
       "    </tr>\n",
       "    <tr>\n",
       "      <th>max</th>\n",
       "      <td>4.897385e+08</td>\n",
       "      <td>1.580000e+05</td>\n",
       "      <td>1.000000e+00</td>\n",
       "    </tr>\n",
       "  </tbody>\n",
       "</table>\n",
       "</div>"
      ],
      "text/plain": [
       "       total_qty_over_index_and_type        weight         label\n",
       "count                   6.000000e+06  6.000000e+06  6.000000e+06\n",
       "mean                    5.673982e+07  2.518929e+02  2.849667e-02\n",
       "std                     7.290388e+07  4.556766e+02  1.663869e-01\n",
       "min                     0.000000e+00  0.000000e+00  0.000000e+00\n",
       "25%                     1.673370e+06  5.900000e+01  0.000000e+00\n",
       "50%                     1.393496e+07  1.150000e+02  0.000000e+00\n",
       "75%                     1.321756e+08  2.770000e+02  0.000000e+00\n",
       "max                     4.897385e+08  1.580000e+05  1.000000e+00"
      ]
     },
     "execution_count": 41,
     "metadata": {},
     "output_type": "execute_result"
    }
   ],
   "source": [
    "df_train.describe()"
   ]
  },
  {
   "cell_type": "code",
   "execution_count": 42,
   "metadata": {},
   "outputs": [
    {
     "data": {
      "text/html": [
       "<div>\n",
       "<style scoped>\n",
       "    .dataframe tbody tr th:only-of-type {\n",
       "        vertical-align: middle;\n",
       "    }\n",
       "\n",
       "    .dataframe tbody tr th {\n",
       "        vertical-align: top;\n",
       "    }\n",
       "\n",
       "    .dataframe thead th {\n",
       "        text-align: right;\n",
       "    }\n",
       "</style>\n",
       "<table border=\"1\" class=\"dataframe\">\n",
       "  <thead>\n",
       "    <tr style=\"text-align: right;\">\n",
       "      <th></th>\n",
       "      <th>total_qty_over_index_and_type</th>\n",
       "      <th>weight</th>\n",
       "    </tr>\n",
       "  </thead>\n",
       "  <tbody>\n",
       "    <tr>\n",
       "      <th>count</th>\n",
       "      <td>4.000000e+06</td>\n",
       "      <td>4.000000e+06</td>\n",
       "    </tr>\n",
       "    <tr>\n",
       "      <th>mean</th>\n",
       "      <td>5.671034e+07</td>\n",
       "      <td>2.519454e+02</td>\n",
       "    </tr>\n",
       "    <tr>\n",
       "      <th>std</th>\n",
       "      <td>7.290373e+07</td>\n",
       "      <td>4.031852e+02</td>\n",
       "    </tr>\n",
       "    <tr>\n",
       "      <th>min</th>\n",
       "      <td>0.000000e+00</td>\n",
       "      <td>0.000000e+00</td>\n",
       "    </tr>\n",
       "    <tr>\n",
       "      <th>25%</th>\n",
       "      <td>1.656011e+06</td>\n",
       "      <td>5.900000e+01</td>\n",
       "    </tr>\n",
       "    <tr>\n",
       "      <th>50%</th>\n",
       "      <td>1.393496e+07</td>\n",
       "      <td>1.150000e+02</td>\n",
       "    </tr>\n",
       "    <tr>\n",
       "      <th>75%</th>\n",
       "      <td>1.321756e+08</td>\n",
       "      <td>2.780000e+02</td>\n",
       "    </tr>\n",
       "    <tr>\n",
       "      <th>max</th>\n",
       "      <td>4.897385e+08</td>\n",
       "      <td>1.580000e+05</td>\n",
       "    </tr>\n",
       "  </tbody>\n",
       "</table>\n",
       "</div>"
      ],
      "text/plain": [
       "       total_qty_over_index_and_type        weight\n",
       "count                   4.000000e+06  4.000000e+06\n",
       "mean                    5.671034e+07  2.519454e+02\n",
       "std                     7.290373e+07  4.031852e+02\n",
       "min                     0.000000e+00  0.000000e+00\n",
       "25%                     1.656011e+06  5.900000e+01\n",
       "50%                     1.393496e+07  1.150000e+02\n",
       "75%                     1.321756e+08  2.780000e+02\n",
       "max                     4.897385e+08  1.580000e+05"
      ]
     },
     "execution_count": 42,
     "metadata": {},
     "output_type": "execute_result"
    }
   ],
   "source": [
    "df_test.describe()"
   ]
  },
  {
   "cell_type": "code",
   "execution_count": 43,
   "metadata": {},
   "outputs": [],
   "source": [
    "# SimpleImputer для обучающего датасета: выберем в список признаки, в которых разумно заполнить пропуски (0)\n",
    "list_for_simple_imputer = [#'total_qty_oper_login_1',\n",
    "                           'mailctg',\n",
    "                           #'name_mfi',\n",
    "                           'total_qty_over_index_and_type',\n",
    "                           'type',\n",
    "                           'weight']\n",
    "\n",
    "# произведем замену пропусков (0) в обучающем датасете\n",
    "imputer_train = SimpleImputer(missing_values=0, strategy='most_frequent')\n",
    "imputer_train.fit(df_train[list_for_simple_imputer])\n",
    "df_train[list_for_simple_imputer] = imputer_train.transform(df_train[list_for_simple_imputer])"
   ]
  },
  {
   "cell_type": "code",
   "execution_count": 44,
   "metadata": {},
   "outputs": [],
   "source": [
    "# произведем замену пропусков (0) в тестовом датасете\n",
    "imputer_test = SimpleImputer(missing_values=0, strategy='most_frequent')\n",
    "imputer_test.fit(df_test[list_for_simple_imputer])\n",
    "df_test[list_for_simple_imputer] = imputer_test.transform(df_test[list_for_simple_imputer])"
   ]
  },
  {
   "cell_type": "code",
   "execution_count": 45,
   "metadata": {},
   "outputs": [],
   "source": [
    "# приведем к нужным типам столбцы df_train после применения SimpleImputer\n",
    "#df_train['total_qty_oper_login_1'] = df_train['total_qty_oper_login_1'].astype('int32')\n",
    "df_train['total_qty_over_index_and_type'] = df_train['total_qty_over_index_and_type'].astype('int32')\n",
    "df_train['weight'] = df_train['weight'].astype('int32')\n",
    "df_train['label'] = df_train['label'].astype('int8')\n",
    "\n",
    "# приведем к нужным типам столбцы df_test после применения SimpleImputer\n",
    "#df_test['total_qty_oper_login_1'] = df_test['total_qty_oper_login_1'].astype('int32')\n",
    "df_test['total_qty_over_index_and_type'] = df_test['total_qty_over_index_and_type'].astype('int32')\n",
    "df_test['weight'] = df_test['weight'].astype('int32')"
   ]
  },
  {
   "cell_type": "code",
   "execution_count": 46,
   "metadata": {},
   "outputs": [
    {
     "data": {
      "text/html": [
       "<div>\n",
       "<style scoped>\n",
       "    .dataframe tbody tr th:only-of-type {\n",
       "        vertical-align: middle;\n",
       "    }\n",
       "\n",
       "    .dataframe tbody tr th {\n",
       "        vertical-align: top;\n",
       "    }\n",
       "\n",
       "    .dataframe thead th {\n",
       "        text-align: right;\n",
       "    }\n",
       "</style>\n",
       "<table border=\"1\" class=\"dataframe\">\n",
       "  <thead>\n",
       "    <tr style=\"text-align: right;\">\n",
       "      <th></th>\n",
       "      <th>total_qty_over_index_and_type</th>\n",
       "      <th>weight</th>\n",
       "      <th>label</th>\n",
       "    </tr>\n",
       "  </thead>\n",
       "  <tbody>\n",
       "    <tr>\n",
       "      <th>count</th>\n",
       "      <td>6.000000e+06</td>\n",
       "      <td>6.000000e+06</td>\n",
       "      <td>6.000000e+06</td>\n",
       "    </tr>\n",
       "    <tr>\n",
       "      <th>mean</th>\n",
       "      <td>5.686472e+07</td>\n",
       "      <td>2.519366e+02</td>\n",
       "      <td>2.849667e-02</td>\n",
       "    </tr>\n",
       "    <tr>\n",
       "      <th>std</th>\n",
       "      <td>7.291979e+07</td>\n",
       "      <td>4.556572e+02</td>\n",
       "      <td>1.663869e-01</td>\n",
       "    </tr>\n",
       "    <tr>\n",
       "      <th>min</th>\n",
       "      <td>1.000000e+00</td>\n",
       "      <td>1.000000e+00</td>\n",
       "      <td>0.000000e+00</td>\n",
       "    </tr>\n",
       "    <tr>\n",
       "      <th>25%</th>\n",
       "      <td>1.673370e+06</td>\n",
       "      <td>5.900000e+01</td>\n",
       "      <td>0.000000e+00</td>\n",
       "    </tr>\n",
       "    <tr>\n",
       "      <th>50%</th>\n",
       "      <td>1.393496e+07</td>\n",
       "      <td>1.150000e+02</td>\n",
       "      <td>0.000000e+00</td>\n",
       "    </tr>\n",
       "    <tr>\n",
       "      <th>75%</th>\n",
       "      <td>1.321756e+08</td>\n",
       "      <td>2.770000e+02</td>\n",
       "      <td>0.000000e+00</td>\n",
       "    </tr>\n",
       "    <tr>\n",
       "      <th>max</th>\n",
       "      <td>4.897385e+08</td>\n",
       "      <td>1.580000e+05</td>\n",
       "      <td>1.000000e+00</td>\n",
       "    </tr>\n",
       "  </tbody>\n",
       "</table>\n",
       "</div>"
      ],
      "text/plain": [
       "       total_qty_over_index_and_type        weight         label\n",
       "count                   6.000000e+06  6.000000e+06  6.000000e+06\n",
       "mean                    5.686472e+07  2.519366e+02  2.849667e-02\n",
       "std                     7.291979e+07  4.556572e+02  1.663869e-01\n",
       "min                     1.000000e+00  1.000000e+00  0.000000e+00\n",
       "25%                     1.673370e+06  5.900000e+01  0.000000e+00\n",
       "50%                     1.393496e+07  1.150000e+02  0.000000e+00\n",
       "75%                     1.321756e+08  2.770000e+02  0.000000e+00\n",
       "max                     4.897385e+08  1.580000e+05  1.000000e+00"
      ]
     },
     "execution_count": 46,
     "metadata": {},
     "output_type": "execute_result"
    }
   ],
   "source": [
    "df_train.describe()"
   ]
  },
  {
   "cell_type": "code",
   "execution_count": 47,
   "metadata": {},
   "outputs": [
    {
     "data": {
      "text/html": [
       "<div>\n",
       "<style scoped>\n",
       "    .dataframe tbody tr th:only-of-type {\n",
       "        vertical-align: middle;\n",
       "    }\n",
       "\n",
       "    .dataframe tbody tr th {\n",
       "        vertical-align: top;\n",
       "    }\n",
       "\n",
       "    .dataframe thead th {\n",
       "        text-align: right;\n",
       "    }\n",
       "</style>\n",
       "<table border=\"1\" class=\"dataframe\">\n",
       "  <thead>\n",
       "    <tr style=\"text-align: right;\">\n",
       "      <th></th>\n",
       "      <th>total_qty_over_index_and_type</th>\n",
       "      <th>weight</th>\n",
       "    </tr>\n",
       "  </thead>\n",
       "  <tbody>\n",
       "    <tr>\n",
       "      <th>count</th>\n",
       "      <td>4.000000e+06</td>\n",
       "      <td>4.000000e+06</td>\n",
       "    </tr>\n",
       "    <tr>\n",
       "      <th>mean</th>\n",
       "      <td>5.683571e+07</td>\n",
       "      <td>2.519903e+02</td>\n",
       "    </tr>\n",
       "    <tr>\n",
       "      <th>std</th>\n",
       "      <td>7.291975e+07</td>\n",
       "      <td>4.031627e+02</td>\n",
       "    </tr>\n",
       "    <tr>\n",
       "      <th>min</th>\n",
       "      <td>1.000000e+00</td>\n",
       "      <td>1.000000e+00</td>\n",
       "    </tr>\n",
       "    <tr>\n",
       "      <th>25%</th>\n",
       "      <td>1.673370e+06</td>\n",
       "      <td>6.000000e+01</td>\n",
       "    </tr>\n",
       "    <tr>\n",
       "      <th>50%</th>\n",
       "      <td>1.393496e+07</td>\n",
       "      <td>1.150000e+02</td>\n",
       "    </tr>\n",
       "    <tr>\n",
       "      <th>75%</th>\n",
       "      <td>1.321756e+08</td>\n",
       "      <td>2.780000e+02</td>\n",
       "    </tr>\n",
       "    <tr>\n",
       "      <th>max</th>\n",
       "      <td>4.897385e+08</td>\n",
       "      <td>1.580000e+05</td>\n",
       "    </tr>\n",
       "  </tbody>\n",
       "</table>\n",
       "</div>"
      ],
      "text/plain": [
       "       total_qty_over_index_and_type        weight\n",
       "count                   4.000000e+06  4.000000e+06\n",
       "mean                    5.683571e+07  2.519903e+02\n",
       "std                     7.291975e+07  4.031627e+02\n",
       "min                     1.000000e+00  1.000000e+00\n",
       "25%                     1.673370e+06  6.000000e+01\n",
       "50%                     1.393496e+07  1.150000e+02\n",
       "75%                     1.321756e+08  2.780000e+02\n",
       "max                     4.897385e+08  1.580000e+05"
      ]
     },
     "execution_count": 47,
     "metadata": {},
     "output_type": "execute_result"
    }
   ],
   "source": [
    "df_test.describe()"
   ]
  },
  {
   "cell_type": "code",
   "execution_count": 48,
   "metadata": {},
   "outputs": [],
   "source": [
    "#df_train.head(20)"
   ]
  },
  {
   "cell_type": "code",
   "execution_count": 49,
   "metadata": {},
   "outputs": [],
   "source": [
    "#df_test.head(20)"
   ]
  },
  {
   "cell_type": "code",
   "execution_count": 50,
   "metadata": {},
   "outputs": [
    {
     "name": "stdout",
     "output_type": "stream",
     "text": [
      "<class 'pandas.core.frame.DataFrame'>\n",
      "RangeIndex: 6000000 entries, 0 to 5999999\n",
      "Data columns (total 6 columns):\n",
      " #   Column                         Dtype \n",
      "---  ------                         ----- \n",
      " 0   oper_type + oper_attr          object\n",
      " 1   mailctg                        object\n",
      " 2   total_qty_over_index_and_type  int32 \n",
      " 3   type                           object\n",
      " 4   weight                         int32 \n",
      " 5   label                          int8  \n",
      "dtypes: int32(2), int8(1), object(3)\n",
      "memory usage: 188.8+ MB\n",
      "<class 'pandas.core.frame.DataFrame'>\n",
      "RangeIndex: 4000000 entries, 0 to 3999999\n",
      "Data columns (total 5 columns):\n",
      " #   Column                         Dtype \n",
      "---  ------                         ----- \n",
      " 0   oper_type + oper_attr          object\n",
      " 1   mailctg                        object\n",
      " 2   total_qty_over_index_and_type  int32 \n",
      " 3   type                           object\n",
      " 4   weight                         int32 \n",
      "dtypes: int32(2), object(3)\n",
      "memory usage: 122.1+ MB\n"
     ]
    }
   ],
   "source": [
    "df_train.info()\n",
    "df_test.info()"
   ]
  },
  {
   "cell_type": "code",
   "execution_count": 51,
   "metadata": {},
   "outputs": [
    {
     "data": {
      "text/html": [
       "<style type=\"text/css\">\n",
       "#T_51c15_row0_col0 {\n",
       "  width: 10em;\n",
       "  background: linear-gradient(90deg, #d65f5f 100.0%, transparent 100.0%);\n",
       "}\n",
       "#T_51c15_row1_col0 {\n",
       "  width: 10em;\n",
       "  background: linear-gradient(90deg, #d65f5f 51.9%, transparent 51.9%);\n",
       "}\n",
       "#T_51c15_row2_col0 {\n",
       "  width: 10em;\n",
       "  background: linear-gradient(90deg, #d65f5f 29.6%, transparent 29.6%);\n",
       "}\n",
       "#T_51c15_row3_col0 {\n",
       "  width: 10em;\n",
       "  background: linear-gradient(90deg, #d65f5f 18.7%, transparent 18.7%);\n",
       "}\n",
       "#T_51c15_row4_col0 {\n",
       "  width: 10em;\n",
       "  background: linear-gradient(90deg, #d65f5f 12.9%, transparent 12.9%);\n",
       "}\n",
       "</style>\n",
       "<table id=\"T_51c15\">\n",
       "  <thead>\n",
       "    <tr>\n",
       "      <th class=\"blank level0\" >&nbsp;</th>\n",
       "      <th id=\"T_51c15_level0_col0\" class=\"col_heading level0 col0\" >Важность признаков для CatBoostClassifier</th>\n",
       "    </tr>\n",
       "  </thead>\n",
       "  <tbody>\n",
       "    <tr>\n",
       "      <th id=\"T_51c15_level0_row0\" class=\"row_heading level0 row0\" >oper_type + oper_attr</th>\n",
       "      <td id=\"T_51c15_row0_col0\" class=\"data row0 col0\" >46.924472</td>\n",
       "    </tr>\n",
       "    <tr>\n",
       "      <th id=\"T_51c15_level0_row1\" class=\"row_heading level0 row1\" >total_qty_over_index_and_type</th>\n",
       "      <td id=\"T_51c15_row1_col0\" class=\"data row1 col0\" >24.360653</td>\n",
       "    </tr>\n",
       "    <tr>\n",
       "      <th id=\"T_51c15_level0_row2\" class=\"row_heading level0 row2\" >type</th>\n",
       "      <td id=\"T_51c15_row2_col0\" class=\"data row2 col0\" >13.877763</td>\n",
       "    </tr>\n",
       "    <tr>\n",
       "      <th id=\"T_51c15_level0_row3\" class=\"row_heading level0 row3\" >weight</th>\n",
       "      <td id=\"T_51c15_row3_col0\" class=\"data row3 col0\" >8.795005</td>\n",
       "    </tr>\n",
       "    <tr>\n",
       "      <th id=\"T_51c15_level0_row4\" class=\"row_heading level0 row4\" >mailctg</th>\n",
       "      <td id=\"T_51c15_row4_col0\" class=\"data row4 col0\" >6.042107</td>\n",
       "    </tr>\n",
       "  </tbody>\n",
       "</table>\n"
      ],
      "text/plain": [
       "<pandas.io.formats.style.Styler at 0x1bbe0a2bd60>"
      ]
     },
     "execution_count": 51,
     "metadata": {},
     "output_type": "execute_result"
    }
   ],
   "source": [
    "# посмотрим, какие признаки модель CatBoostClassifier оценивает как наиболее важные\n",
    "features_catboost_importance = df_train.drop(['label'], axis = 1).head(3000000)\n",
    "target_catboost_importance = df_train['label'].head(3000000)\n",
    "\n",
    "cat_features_categories = list(features_catboost_importance.select_dtypes('object').columns)\n",
    "\n",
    "catboost = CatBoostClassifier(random_seed=RANDOM_STATE, silent=True, task_type = \"GPU\", class_weights={0: 15, 1: 502}).fit(features_catboost_importance, target_catboost_importance, cat_features=cat_features_categories)\n",
    "features_importance = catboost.get_feature_importance()\n",
    "pd.DataFrame(features_importance, index=features_catboost_importance.dtypes.index, columns=['Важность признаков для CatBoostClassifier'])\\\n",
    "    .sort_values(by='Важность признаков для CatBoostClassifier', ascending = False).style.bar()"
   ]
  },
  {
   "cell_type": "code",
   "execution_count": 52,
   "metadata": {},
   "outputs": [
    {
     "name": "stdout",
     "output_type": "stream",
     "text": [
      "interval columns not set, guessing: ['total_qty_over_index_and_type', 'weight', 'label']\n"
     ]
    },
    {
     "data": {
      "image/png": "[encoded data removed]",
      "text/plain": [
       "<Figure size 720x720 with 2 Axes>"
      ]
     },
     "metadata": {
      "needs_background": "light"
     },
     "output_type": "display_data"
    }
   ],
   "source": [
    "# Построим матрицу корреляции через фи-корреляцию (phik), c помощью \n",
    "# которой можно изучать корреляцию непрерывных категориальных признаков \n",
    "phik_overview = df_train.sample(30000).phik_matrix()\n",
    "phik_overview = phik_overview.round(2)\n",
    "# визуализируем полученную матрицу фи-корреляции\n",
    "plot_correlation_matrix(phik_overview.values, \n",
    "                        x_labels=phik_overview.columns, \n",
    "                        y_labels=phik_overview.index, \n",
    "                        vmin=0, vmax=1, color_map=\"Greens\", \n",
    "                        title=r\"correlation $\\phi_K$\", \n",
    "                        #fontsize_factor=1.5, \n",
    "                        figsize=(10, 10))\n",
    "plt.tight_layout()"
   ]
  },
  {
   "cell_type": "code",
   "execution_count": 53,
   "metadata": {},
   "outputs": [
    {
     "name": "stdout",
     "output_type": "stream",
     "text": [
      "oper_type + oper_attr\n",
      "1020_-1    693154\n",
      "1022_-1    656597\n",
      "1019_-1    413710\n",
      "8_0        402877\n",
      "1_-1       359402\n",
      "            ...  \n",
      "2_2             1\n",
      "12_6            1\n",
      "2_11            1\n",
      "2_10            1\n",
      "1009_-1         1\n",
      "Name: oper_type + oper_attr, Length: 109, dtype: int64\n",
      "--------------------------------------------\n",
      "--------------------------------------------\n",
      "--------------------------------------------\n",
      "mailctg\n",
      "1.0_mailctg     4688317\n",
      "0.0_mailctg     1257102\n",
      "-1.0_mailctg      54015\n",
      "3.0_mailctg         546\n",
      "5.0_mailctg          20\n",
      "Name: mailctg, dtype: int64\n",
      "--------------------------------------------\n",
      "--------------------------------------------\n",
      "--------------------------------------------\n",
      "total_qty_over_index_and_type\n",
      "132175590    801556\n",
      "180702765    334082\n",
      "67549084     329741\n",
      "159889293    272750\n",
      "76146936     159450\n",
      "              ...  \n",
      "3547              1\n",
      "6456              1\n",
      "10538             1\n",
      "2940              1\n",
      "368597            1\n",
      "Name: total_qty_over_index_and_type, Length: 20096, dtype: int64\n",
      "--------------------------------------------\n",
      "--------------------------------------------\n",
      "--------------------------------------------\n",
      "type\n",
      "Цех               2093668\n",
      "ММПО              1614974\n",
      "Участок            926631\n",
      "ГОПС               463750\n",
      "ТИ                 305490\n",
      "П                  245814\n",
      "МСЦ                223241\n",
      "СОПС                72161\n",
      "СЦ                  12469\n",
      "ОП                   9527\n",
      "МСО                  7465\n",
      "ОПП                  7190\n",
      "АОПП                 6682\n",
      "МРП                  3850\n",
      "0                    3444\n",
      "АО                   1304\n",
      "ПЕРЕДВИЖНОЕ ОС       1006\n",
      "ППС                   682\n",
      "УМСЦ                  569\n",
      "УКД                    83\n",
      "Name: type, dtype: int64\n",
      "--------------------------------------------\n",
      "--------------------------------------------\n",
      "--------------------------------------------\n",
      "weight\n",
      "100     153011\n",
      "50      109126\n",
      "30       87016\n",
      "80       69771\n",
      "60       66565\n",
      "         ...  \n",
      "3570         1\n",
      "2105         1\n",
      "2379         1\n",
      "2301         1\n",
      "2760         1\n",
      "Name: weight, Length: 2868, dtype: int64\n",
      "--------------------------------------------\n",
      "--------------------------------------------\n",
      "--------------------------------------------\n",
      "label\n",
      "0    5829020\n",
      "1     170980\n",
      "Name: label, dtype: int64\n",
      "--------------------------------------------\n",
      "--------------------------------------------\n",
      "--------------------------------------------\n"
     ]
    }
   ],
   "source": [
    "for i in list_with_importance_features_train_01:\n",
    "    print(i)\n",
    "    print(df_train[i].value_counts())\n",
    "    print('--------------------------------------------')\n",
    "    print('--------------------------------------------')\n",
    "    print('--------------------------------------------')"
   ]
  },
  {
   "cell_type": "code",
   "execution_count": 54,
   "metadata": {},
   "outputs": [
    {
     "name": "stdout",
     "output_type": "stream",
     "text": [
      "oper_type + oper_attr\n",
      "1020_-1    461403\n",
      "1022_-1    437702\n",
      "1019_-1    276312\n",
      "8_0        268559\n",
      "1_-1       240459\n",
      "            ...  \n",
      "12_21           1\n",
      "14_19           1\n",
      "1009_-1         1\n",
      "6_5             1\n",
      "3_10            1\n",
      "Name: oper_type + oper_attr, Length: 102, dtype: int64\n",
      "--------------------------------------------\n",
      "--------------------------------------------\n",
      "--------------------------------------------\n",
      "mailctg\n",
      "1.0_mailctg     3127158\n",
      "0.0_mailctg      836708\n",
      "-1.0_mailctg      35737\n",
      "3.0_mailctg         383\n",
      "5.0_mailctg          14\n",
      "Name: mailctg, dtype: int64\n",
      "--------------------------------------------\n",
      "--------------------------------------------\n",
      "--------------------------------------------\n",
      "total_qty_over_index_and_type\n",
      "132175590    533997\n",
      "180702765    222425\n",
      "67549084     219208\n",
      "159889293    182242\n",
      "76146936     106650\n",
      "              ...  \n",
      "4536              1\n",
      "5265              1\n",
      "2877              1\n",
      "4289              1\n",
      "10995             1\n",
      "Name: total_qty_over_index_and_type, Length: 19976, dtype: int64\n",
      "--------------------------------------------\n",
      "--------------------------------------------\n",
      "--------------------------------------------\n",
      "type\n",
      "Цех               1395154\n",
      "ММПО              1075996\n",
      "Участок            619027\n",
      "ГОПС               308878\n",
      "ТИ                 203015\n",
      "П                  164467\n",
      "МСЦ                149374\n",
      "СОПС                48117\n",
      "СЦ                   8310\n",
      "ОП                   6441\n",
      "МСО                  5117\n",
      "АОПП                 4532\n",
      "ОПП                  4463\n",
      "МРП                  2520\n",
      "0                    2249\n",
      "АО                    807\n",
      "ПЕРЕДВИЖНОЕ ОС        605\n",
      "УМСЦ                  433\n",
      "ППС                   430\n",
      "УКД                    65\n",
      "Name: type, dtype: int64\n",
      "--------------------------------------------\n",
      "--------------------------------------------\n",
      "--------------------------------------------\n",
      "weight\n",
      "100     101735\n",
      "50       73088\n",
      "30       58061\n",
      "80       46512\n",
      "60       44024\n",
      "         ...  \n",
      "2453         1\n",
      "2433         1\n",
      "2764         1\n",
      "2046         1\n",
      "2301         1\n",
      "Name: weight, Length: 2865, dtype: int64\n",
      "--------------------------------------------\n",
      "--------------------------------------------\n",
      "--------------------------------------------\n"
     ]
    }
   ],
   "source": [
    "for i in list_with_importance_features_test_01:\n",
    "    print(i)\n",
    "    print(df_test[i].value_counts())\n",
    "    print('--------------------------------------------')\n",
    "    print('--------------------------------------------')\n",
    "    print('--------------------------------------------')"
   ]
  },
  {
   "cell_type": "code",
   "execution_count": 55,
   "metadata": {},
   "outputs": [
    {
     "name": "stdout",
     "output_type": "stream",
     "text": [
      "170980\n",
      "5829020\n"
     ]
    }
   ],
   "source": [
    "# взвешивание классов для модели\n",
    "k_for_class_0 = np.sum(df_train['label']==1)\n",
    "k_for_class_1 = np.sum(df_train['label']==0)\n",
    "\n",
    "print(k_for_class_0)\n",
    "print(k_for_class_1)"
   ]
  },
  {
   "cell_type": "code",
   "execution_count": 56,
   "metadata": {},
   "outputs": [
    {
     "name": "stdout",
     "output_type": "stream",
     "text": [
      "<class 'pandas.core.frame.DataFrame'>\n",
      "RangeIndex: 6000000 entries, 0 to 5999999\n",
      "Data columns (total 6 columns):\n",
      " #   Column                         Dtype \n",
      "---  ------                         ----- \n",
      " 0   oper_type + oper_attr          object\n",
      " 1   mailctg                        object\n",
      " 2   total_qty_over_index_and_type  int32 \n",
      " 3   type                           object\n",
      " 4   weight                         int32 \n",
      " 5   label                          int8  \n",
      "dtypes: int32(2), int8(1), object(3)\n",
      "memory usage: 188.8+ MB\n"
     ]
    }
   ],
   "source": [
    "df_train.info()"
   ]
  },
  {
   "cell_type": "code",
   "execution_count": 57,
   "metadata": {},
   "outputs": [
    {
     "name": "stdout",
     "output_type": "stream",
     "text": [
      "<class 'pandas.core.frame.DataFrame'>\n",
      "RangeIndex: 4000000 entries, 0 to 3999999\n",
      "Data columns (total 5 columns):\n",
      " #   Column                         Dtype \n",
      "---  ------                         ----- \n",
      " 0   oper_type + oper_attr          object\n",
      " 1   mailctg                        object\n",
      " 2   total_qty_over_index_and_type  int32 \n",
      " 3   type                           object\n",
      " 4   weight                         int32 \n",
      "dtypes: int32(2), object(3)\n",
      "memory usage: 122.1+ MB\n"
     ]
    }
   ],
   "source": [
    "df_test.info()"
   ]
  },
  {
   "cell_type": "markdown",
   "metadata": {},
   "source": [
    "## Формула метрики"
   ]
  },
  {
   "cell_type": "code",
   "execution_count": 58,
   "metadata": {},
   "outputs": [],
   "source": [
    "# для CatBoost: при использовании в grid_search_catboost результат получается хуже, поэтому там оставим scoring='roc_auc_ovo'\n",
    "def metric_from_assignment(target, predict):\n",
    "    target = target_train_catboost\n",
    "    predict = grid_search_catboost.predict(features_train_catboost)\n",
    "    metric_from_assignment = 0.9 * roc_auc_score(target, predict, multi_class='ovo') + 0.1 * recall_score(target, predict, average = \"macro\" ) \n",
    "    return metric_from_assignment"
   ]
  },
  {
   "cell_type": "code",
   "execution_count": 59,
   "metadata": {},
   "outputs": [],
   "source": [
    "# формула для LGBM\n",
    "#def metric_from_assignment_lgbm(X_train_lgbm, y_train_lgbm):\n",
    "#    predict_lgbm = grid_search_lgbm.predict(X_train_lgbm)\n",
    "#    metric_from_assignment_lgbm = 0.9 * roc_auc_score(y_train_lgbm, predict_lgbm, multi_class='ovo') + 0.1 * recall_score(y_train_lgbm, predict_lgbm, average = \"macro\" ) \n",
    "#    return metric_from_assignment_lgbm"
   ]
  },
  {
   "cell_type": "markdown",
   "metadata": {},
   "source": [
    "## Обучение моделей"
   ]
  },
  {
   "cell_type": "markdown",
   "metadata": {},
   "source": [
    "### LightGBM"
   ]
  },
  {
   "cell_type": "code",
   "execution_count": 60,
   "metadata": {},
   "outputs": [],
   "source": [
    "# получим список категориальных признаков \n",
    "#features_categories = list(features_train_catboost.select_dtypes('object').columns)\n",
    "#display(features_categories)"
   ]
  },
  {
   "cell_type": "code",
   "execution_count": 61,
   "metadata": {},
   "outputs": [],
   "source": [
    "# моделирование завершается ошибкой памяти!\n",
    "#X_train_lgbm = features_train_catboost.head(1000)\n",
    "#y_train_lgbm = target_train_catboost.head(1000)\n",
    "\n",
    "#pipe_lgbm = Pipeline(steps=[('scaler', StandardScaler()),\n",
    "#                            ('lgbm', LGBMClassifier(random_state=RANDOM_STATE,\n",
    "#                                                    objective='binary',\n",
    "#                                                    class_weight='balanced',\n",
    "#                                                    silent=True))])\n",
    "\n",
    "#lgbm_params = {\n",
    "# 'lgbm__max_depth': [2],\n",
    "# 'lgbm__n_estimators': [50],\n",
    "# 'lgbm__learning_rate': [0.05],\n",
    "# 'categorical_feature': features_categories\n",
    "#}\n",
    "\n",
    "#grid_search_lgbm = GridSearchCV(pipe_lgbm,\n",
    "#                                lgbm_params, \n",
    "#                                verbose=2,\n",
    "#                                cv=2,\n",
    "#                                n_jobs=-1,\n",
    "#                                scoring='roc_auc')\n",
    "\n",
    "#grid_search_lgbm.fit(X_train_lgbm, y_train_lgbm)\n",
    "\n",
    "#print(\" --------------------------------------------------------------------------\" )\n",
    "#print(\" --------------------------------------------------------------------------\" )\n",
    "#print(\" Results from Grid Search \" )\n",
    "#print(\"\\n The best estimator across ALL searched params:\\n\", grid_search_lgbm.best_estimator_)\n",
    "#print(\"\\n The best score across ALL searched params:\\n\", grid_search_lgbm.best_score_)\n",
    "#print(\"\\n The best parameters across ALL searched params:\\n\", grid_search_lgbm.best_params_)'''"
   ]
  },
  {
   "cell_type": "code",
   "execution_count": 62,
   "metadata": {},
   "outputs": [],
   "source": [
    "#pred_lgbm_solution = grid_search_lgbm.predict(df_test)"
   ]
  },
  {
   "cell_type": "markdown",
   "metadata": {},
   "source": [
    "### CatBoostClassifier"
   ]
  },
  {
   "cell_type": "code",
   "execution_count": 123,
   "metadata": {},
   "outputs": [],
   "source": [
    "# сократим датафрейм df_train для быстрого обучения и тестирования модели\n",
    "df_cat = df_train.copy()"
   ]
  },
  {
   "cell_type": "code",
   "execution_count": 124,
   "metadata": {},
   "outputs": [],
   "source": [
    "# выделим признаки для обучения моделей\n",
    "features_catboost = df_cat.drop(['label'], axis = 1)\n",
    "target_catboost = df_cat['label']"
   ]
  },
  {
   "cell_type": "code",
   "execution_count": 125,
   "metadata": {},
   "outputs": [
    {
     "name": "stdout",
     "output_type": "stream",
     "text": [
      "<class 'pandas.core.frame.DataFrame'>\n",
      "RangeIndex: 6000000 entries, 0 to 5999999\n",
      "Data columns (total 5 columns):\n",
      " #   Column                         Dtype \n",
      "---  ------                         ----- \n",
      " 0   oper_type + oper_attr          object\n",
      " 1   mailctg                        object\n",
      " 2   total_qty_over_index_and_type  int32 \n",
      " 3   type                           object\n",
      " 4   weight                         int32 \n",
      "dtypes: int32(2), object(3)\n",
      "memory usage: 183.1+ MB\n",
      "<class 'pandas.core.series.Series'>\n",
      "RangeIndex: 6000000 entries, 0 to 5999999\n",
      "Series name: label\n",
      "Non-Null Count    Dtype\n",
      "--------------    -----\n",
      "6000000 non-null  int8 \n",
      "dtypes: int8(1)\n",
      "memory usage: 5.7 MB\n"
     ]
    }
   ],
   "source": [
    "features_catboost.info()\n",
    "target_catboost.info()"
   ]
  },
  {
   "cell_type": "code",
   "execution_count": 126,
   "metadata": {},
   "outputs": [],
   "source": [
    "#from imblearn.over_sampling import BorderlineSMOTE\n",
    "#borderline_smote = BorderlineSMOTE(random_state=RANDOM_STATE)\n",
    "#features_catboost, target_catboost = borderline_smote.fit_resample(features_catboost, target_catboost)"
   ]
  },
  {
   "cell_type": "code",
   "execution_count": 127,
   "metadata": {},
   "outputs": [],
   "source": [
    "# DOWNSAMPLING\n",
    "def downsample(features, target, fraction):\n",
    "    features_zeros = features[target == 0]\n",
    "    features_ones = features[target == 1]\n",
    "    target_zeros = target[target == 0]\n",
    "    target_ones = target[target == 1]\n",
    "\n",
    "    features_downsampled = pd.concat(\n",
    "        [features_zeros.sample(frac=fraction, random_state=RANDOM_STATE)] + [features_ones])\n",
    "    target_downsampled = pd.concat(\n",
    "        [target_zeros.sample(frac=fraction, random_state=RANDOM_STATE)] + [target_ones])\n",
    "    \n",
    "    features_downsampled, target_downsampled = shuffle(\n",
    "        features_downsampled, target_downsampled, random_state=RANDOM_STATE)\n",
    "    return features_downsampled, target_downsampled"
   ]
  },
  {
   "cell_type": "code",
   "execution_count": 128,
   "metadata": {},
   "outputs": [],
   "source": [
    "# DOWNSAMPLING\n",
    "features_catboost, target_catboost = downsample(features_catboost, target_catboost, fraction = FRACTION_FOR_DOWNSAMPLING)"
   ]
  },
  {
   "cell_type": "code",
   "execution_count": 129,
   "metadata": {},
   "outputs": [
    {
     "name": "stdout",
     "output_type": "stream",
     "text": [
      "<class 'pandas.core.frame.DataFrame'>\n",
      "Int64Index: 6000000 entries, 3613385 to 1778156\n",
      "Data columns (total 5 columns):\n",
      " #   Column                         Dtype \n",
      "---  ------                         ----- \n",
      " 0   oper_type + oper_attr          object\n",
      " 1   mailctg                        object\n",
      " 2   total_qty_over_index_and_type  int32 \n",
      " 3   type                           object\n",
      " 4   weight                         int32 \n",
      "dtypes: int32(2), object(3)\n",
      "memory usage: 228.9+ MB\n",
      "<class 'pandas.core.series.Series'>\n",
      "Int64Index: 6000000 entries, 3613385 to 1778156\n",
      "Series name: label\n",
      "Non-Null Count    Dtype\n",
      "--------------    -----\n",
      "6000000 non-null  int8 \n",
      "dtypes: int8(1)\n",
      "memory usage: 51.5 MB\n"
     ]
    }
   ],
   "source": [
    "features_catboost.info()\n",
    "target_catboost.info()"
   ]
  },
  {
   "cell_type": "code",
   "execution_count": 130,
   "metadata": {},
   "outputs": [
    {
     "name": "stdout",
     "output_type": "stream",
     "text": [
      "All is good: sample sizes are correct\n"
     ]
    },
    {
     "data": {
      "text/plain": [
       "((4200000, 5), (4200000,), (1800000, 5), (1800000,))"
      ]
     },
     "execution_count": 130,
     "metadata": {},
     "output_type": "execute_result"
    }
   ],
   "source": [
    "# разделим датафрейм на обучающую и тестовую выборки, при этом \n",
    "# используем стратификацию (параметр stratify), чтобы сбалансировать \n",
    "# выборки по классам (для целевого признака target)\n",
    "\n",
    "features_train_catboost, features_test_catboost, target_train_catboost, target_test_catboost = train_test_split(\n",
    "    features_catboost, target_catboost, test_size=TEST_SIZE, random_state=RANDOM_STATE, stratify=target_catboost)\n",
    "\n",
    "if features_train_catboost.shape[0]==target_train_catboost.shape[0] and features_test_catboost.shape[0]==target_test_catboost.shape[0]:\n",
    "    print('All is good: sample sizes are correct')\n",
    "else:\n",
    "    print('Error!!! Sample sizes are NOT correct')\n",
    "\n",
    "features_train_catboost.shape, target_train_catboost.shape, features_test_catboost.shape, target_test_catboost.shape"
   ]
  },
  {
   "cell_type": "code",
   "execution_count": 131,
   "metadata": {
    "scrolled": true
   },
   "outputs": [
    {
     "data": {
      "text/plain": [
       "['oper_type + oper_attr', 'mailctg', 'type']"
      ]
     },
     "metadata": {},
     "output_type": "display_data"
    }
   ],
   "source": [
    "# получим список категориальных признаков \n",
    "cat_features_categories = list(features_train_catboost.select_dtypes('object').columns)\n",
    "display(cat_features_categories)"
   ]
  },
  {
   "cell_type": "code",
   "execution_count": 132,
   "metadata": {
    "scrolled": true
   },
   "outputs": [
    {
     "name": "stdout",
     "output_type": "stream",
     "text": [
      "<class 'pandas.core.frame.DataFrame'>\n",
      "Int64Index: 4200000 entries, 172779 to 4827591\n",
      "Data columns (total 5 columns):\n",
      " #   Column                         Dtype \n",
      "---  ------                         ----- \n",
      " 0   oper_type + oper_attr          object\n",
      " 1   mailctg                        object\n",
      " 2   total_qty_over_index_and_type  int32 \n",
      " 3   type                           object\n",
      " 4   weight                         int32 \n",
      "dtypes: int32(2), object(3)\n",
      "memory usage: 160.2+ MB\n"
     ]
    },
    {
     "data": {
      "text/html": [
       "<div>\n",
       "<style scoped>\n",
       "    .dataframe tbody tr th:only-of-type {\n",
       "        vertical-align: middle;\n",
       "    }\n",
       "\n",
       "    .dataframe tbody tr th {\n",
       "        vertical-align: top;\n",
       "    }\n",
       "\n",
       "    .dataframe thead th {\n",
       "        text-align: right;\n",
       "    }\n",
       "</style>\n",
       "<table border=\"1\" class=\"dataframe\">\n",
       "  <thead>\n",
       "    <tr style=\"text-align: right;\">\n",
       "      <th></th>\n",
       "      <th>oper_type + oper_attr</th>\n",
       "      <th>mailctg</th>\n",
       "      <th>total_qty_over_index_and_type</th>\n",
       "      <th>type</th>\n",
       "      <th>weight</th>\n",
       "    </tr>\n",
       "  </thead>\n",
       "  <tbody>\n",
       "    <tr>\n",
       "      <th>172779</th>\n",
       "      <td>1025_-1</td>\n",
       "      <td>1.0_mailctg</td>\n",
       "      <td>156605292</td>\n",
       "      <td>ММПО</td>\n",
       "      <td>17</td>\n",
       "    </tr>\n",
       "    <tr>\n",
       "      <th>3679432</th>\n",
       "      <td>1014_-1</td>\n",
       "      <td>0.0_mailctg</td>\n",
       "      <td>180702765</td>\n",
       "      <td>ММПО</td>\n",
       "      <td>24</td>\n",
       "    </tr>\n",
       "    <tr>\n",
       "      <th>3741968</th>\n",
       "      <td>1018_-1</td>\n",
       "      <td>0.0_mailctg</td>\n",
       "      <td>48784066</td>\n",
       "      <td>Цех</td>\n",
       "      <td>101</td>\n",
       "    </tr>\n",
       "    <tr>\n",
       "      <th>5695778</th>\n",
       "      <td>1019_-1</td>\n",
       "      <td>0.0_mailctg</td>\n",
       "      <td>444261</td>\n",
       "      <td>П</td>\n",
       "      <td>70</td>\n",
       "    </tr>\n",
       "    <tr>\n",
       "      <th>2462978</th>\n",
       "      <td>1020_-1</td>\n",
       "      <td>0.0_mailctg</td>\n",
       "      <td>1693974</td>\n",
       "      <td>Цех</td>\n",
       "      <td>60</td>\n",
       "    </tr>\n",
       "  </tbody>\n",
       "</table>\n",
       "</div>"
      ],
      "text/plain": [
       "        oper_type + oper_attr      mailctg  total_qty_over_index_and_type  \\\n",
       "172779                1025_-1  1.0_mailctg                      156605292   \n",
       "3679432               1014_-1  0.0_mailctg                      180702765   \n",
       "3741968               1018_-1  0.0_mailctg                       48784066   \n",
       "5695778               1019_-1  0.0_mailctg                         444261   \n",
       "2462978               1020_-1  0.0_mailctg                        1693974   \n",
       "\n",
       "         type  weight  \n",
       "172779   ММПО      17  \n",
       "3679432  ММПО      24  \n",
       "3741968   Цех     101  \n",
       "5695778     П      70  \n",
       "2462978   Цех      60  "
      ]
     },
     "execution_count": 132,
     "metadata": {},
     "output_type": "execute_result"
    }
   ],
   "source": [
    "features_train_catboost.info()\n",
    "features_train_catboost.head()"
   ]
  },
  {
   "cell_type": "code",
   "execution_count": 133,
   "metadata": {},
   "outputs": [
    {
     "data": {
      "text/plain": [
       "\"# создадим объект структуры  StandardScaler и настроим его на обучающих данных\\nnumeric = features_train_catboost.select_dtypes(include=['int', 'float'], exclude=None).columns\\n\\nscaler = StandardScaler()\\nscaler.fit(features_train_catboost[numeric]) # список всех численных признаков (если не передать, то будет ошибка типов)\\n\\n# Преобразуем обучающую и тестовую выборки функцией transform(). \\nfeatures_train_catboost[numeric] = scaler.transform(features_train_catboost[numeric])\\nfeatures_test_catboost[numeric] = scaler.transform(features_test_catboost[numeric])\\n\\ndisplay(features_train_catboost.head())\\ndisplay(features_test_catboost.head())\""
      ]
     },
     "execution_count": 133,
     "metadata": {},
     "output_type": "execute_result"
    }
   ],
   "source": [
    "# для CatBoost показывает низкие результаты\n",
    "'''# создадим объект структуры  StandardScaler и настроим его на обучающих данных\n",
    "numeric = features_train_catboost.select_dtypes(include=['int', 'float'], exclude=None).columns\n",
    "\n",
    "scaler = StandardScaler()\n",
    "scaler.fit(features_train_catboost[numeric]) # список всех численных признаков (если не передать, то будет ошибка типов)\n",
    "\n",
    "# Преобразуем обучающую и тестовую выборки функцией transform(). \n",
    "features_train_catboost[numeric] = scaler.transform(features_train_catboost[numeric])\n",
    "features_test_catboost[numeric] = scaler.transform(features_test_catboost[numeric])\n",
    "\n",
    "display(features_train_catboost.head())\n",
    "display(features_test_catboost.head())'''"
   ]
  },
  {
   "cell_type": "code",
   "execution_count": 134,
   "metadata": {},
   "outputs": [],
   "source": [
    "import numpy as np \n",
    "from catboost import CatBoostClassifier\n",
    "from sklearn.utils.class_weight import compute_class_weight"
   ]
  },
  {
   "cell_type": "code",
   "execution_count": 135,
   "metadata": {},
   "outputs": [
    {
     "name": "stdout",
     "output_type": "stream",
     "text": [
      "{0: 0.5146662732328934, 1: 17.545911802550005}\n"
     ]
    }
   ],
   "source": [
    "# сбалансируем классы для модели\n",
    "classes = np.unique(target_train_catboost)\n",
    "weights = compute_class_weight(class_weight='balanced', classes=classes, y=target_train_catboost)\n",
    "class_weights_catboost = dict(zip(classes, weights))\n",
    "print(class_weights_catboost)"
   ]
  },
  {
   "cell_type": "code",
   "execution_count": 136,
   "metadata": {},
   "outputs": [],
   "source": [
    "#class_weights_catboost_balance = {0: 1, 1: 20}\n",
    "class_weights_catboost_balance = class_weights_catboost"
   ]
  },
  {
   "cell_type": "code",
   "execution_count": 137,
   "metadata": {},
   "outputs": [
    {
     "name": "stdout",
     "output_type": "stream",
     "text": [
      "Fitting 5 folds for each of 1 candidates, totalling 5 fits\n",
      "[CV] END ...........................depth=8, iterations=1000; total time= 4.5min\n",
      "[CV] END ...........................depth=8, iterations=1000; total time= 4.5min\n",
      "[CV] END ...........................depth=8, iterations=1000; total time= 4.6min\n",
      "[CV] END ...........................depth=8, iterations=1000; total time= 4.5min\n",
      "[CV] END ...........................depth=8, iterations=1000; total time= 4.6min\n",
      " --------------------------------------------------------------------------\n",
      " --------------------------------------------------------------------------\n",
      " Results from Grid Search \n",
      "\n",
      " The best score across ALL searched params:\n",
      " 0.9872285378379726\n",
      "\n",
      " The best parameters across ALL searched params:\n",
      " {'depth': 8, 'iterations': 1000}\n",
      "CPU times: total: 48min 1s\n",
      "Wall time: 27min 55s\n"
     ]
    }
   ],
   "source": [
    "%%time\n",
    "# создадим и обучим модель, подобрав гиперпараметры через GridSearchCV\n",
    "catboost = CatBoostClassifier(loss_function='Logloss', \n",
    "                              task_type = \"GPU\", \n",
    "                              random_seed=RANDOM_STATE,\n",
    "                              class_weights=class_weights_catboost_balance,\n",
    "                              silent=True)\n",
    "\n",
    "catboost_params = {\n",
    " 'depth': [8],\n",
    " 'iterations': [1000]\n",
    " #'class_weights': [{0: 1, 1: [40, 100]}]\n",
    " #'learning_rate': [0.1]\n",
    " #'l2_leaf_reg': [3]\n",
    "}\n",
    "\n",
    "grid_search_catboost = GridSearchCV(catboost,\n",
    "                                   catboost_params,                                   \n",
    "                                   verbose=2,\n",
    "                                   cv=5,\n",
    "                                   #n_jobs=-1,\n",
    "                                   #scoring=metric_from_assignment\n",
    "                                   scoring='roc_auc_ovo')\n",
    "\n",
    "grid_search_catboost.fit(features_train_catboost, target_train_catboost, cat_features=cat_features_categories)\n",
    "\n",
    "print(\" --------------------------------------------------------------------------\" )\n",
    "print(\" --------------------------------------------------------------------------\" )\n",
    "print(\" Results from Grid Search \" )\n",
    "print(\"\\n The best score across ALL searched params:\\n\", grid_search_catboost.best_score_)\n",
    "print(\"\\n The best parameters across ALL searched params:\\n\", grid_search_catboost.best_params_)"
   ]
  },
  {
   "cell_type": "markdown",
   "metadata": {
    "id": "DrF2LeJIBNYN"
   },
   "source": [
    "## Оценка точности"
   ]
  },
  {
   "cell_type": "code",
   "execution_count": 138,
   "metadata": {
    "id": "5Ph7vcoxBNYO"
   },
   "outputs": [],
   "source": [
    "# сделаем предсказание\n",
    "pred_cat = grid_search_catboost.predict(features_test_catboost)"
   ]
  },
  {
   "cell_type": "code",
   "execution_count": 139,
   "metadata": {},
   "outputs": [],
   "source": [
    "# сохраним модель на диск для последующей загрузки без долгого обучения\n",
    "filename_saved_model_cat = 'cat_finalized_model.sav'\n",
    "pickle.dump(grid_search_catboost, open(filename_saved_model_cat, 'wb'))"
   ]
  },
  {
   "cell_type": "code",
   "execution_count": 140,
   "metadata": {},
   "outputs": [],
   "source": [
    "# загрузим модель с диска\n",
    "loaded_model_cat = pickle.load(open(filename_saved_model_cat, 'rb'))\n",
    "#result = loaded_model_cat.score(features_test_catboost, target_test_catboost)\n",
    "#print(result)"
   ]
  },
  {
   "cell_type": "code",
   "execution_count": 141,
   "metadata": {},
   "outputs": [
    {
     "name": "stdout",
     "output_type": "stream",
     "text": [
      "Recall = 0.9762029497096125\n"
     ]
    }
   ],
   "source": [
    "# посчитаем итоговые метрики\n",
    "pred_loaded_cat = loaded_model_cat.predict(features_test_catboost)\n",
    "\n",
    "score_loaded_cat_recall = recall_score(target_test_catboost, pred_loaded_cat, average = \"macro\" )\n",
    "print(\"Recall =\", score_loaded_cat_recall)"
   ]
  },
  {
   "cell_type": "code",
   "execution_count": 142,
   "metadata": {},
   "outputs": [
    {
     "name": "stdout",
     "output_type": "stream",
     "text": [
      "ROC-AUC= 0.9872099941633513\n"
     ]
    },
    {
     "data": {
      "image/png": "[encoded data removed]",
      "text/plain": [
       "<Figure size 432x288 with 1 Axes>"
      ]
     },
     "metadata": {
      "needs_background": "light"
     },
     "output_type": "display_data"
    }
   ],
   "source": [
    "# получаем предказания predict_proba\n",
    "probs = loaded_model_cat.predict_proba(features_test_catboost)\n",
    "# сохраняем вероятности только для положительного исхода\n",
    "probs = probs[:, 1]\n",
    "# рассчитываем ROC-AUC\n",
    "auc = roc_auc_score(target_test_catboost, probs, multi_class='ovo')\n",
    "print('ROC-AUC=', auc)\n",
    "\n",
    "probabilities_test = loaded_model_cat.predict_proba(features_test_catboost)\n",
    "probabilities_one_test = probabilities_test[:, 1]\n",
    "\n",
    "fpr, tpr, thresholds = roc_curve(target_test_catboost, probabilities_one_test)\n",
    "\n",
    "plt.figure()\n",
    "plt.plot(fpr, tpr)\n",
    "\n",
    "# ROC-кривая случайной модели (выглядит как прямая)\n",
    "plt.plot([0, 1], [0, 1], linestyle='--')\n",
    "\n",
    "# границы осей от 0 до 1 \n",
    "plt.ylim([0.0, 1.0])\n",
    "plt.xlim([0.0, 1.0])\n",
    "# подписи осей \"False Positive Rate\" и \"True Positive Rate\" >\n",
    "plt.xlabel('False Positive Rate')\n",
    "plt.ylabel('True Positive Rate')\n",
    "# заголовок\n",
    "plt.title('ROC-кривая')\n",
    "#plt.figure(figsize=(6, 6))\n",
    "plt.show()"
   ]
  },
  {
   "cell_type": "code",
   "execution_count": 143,
   "metadata": {},
   "outputs": [
    {
     "name": "stdout",
     "output_type": "stream",
     "text": [
      "[0 0 0 ... 0 0 0]\n"
     ]
    }
   ],
   "source": [
    "pred_loaded_cat_solution = loaded_model_cat.predict(df_test)\n",
    "print(pred_loaded_cat_solution)"
   ]
  },
  {
   "cell_type": "code",
   "execution_count": 144,
   "metadata": {},
   "outputs": [
    {
     "data": {
      "text/plain": [
       "Text(0.5, 1, 'CatBoost: матрица ошибок')"
      ]
     },
     "execution_count": 144,
     "metadata": {},
     "output_type": "execute_result"
    },
    {
     "data": {
      "image/png": "[encoded data removed]",
      "text/plain": [
       "<Figure size 360x360 with 2 Axes>"
      ]
     },
     "metadata": {
      "needs_background": "light"
     },
     "output_type": "display_data"
    }
   ],
   "source": [
    "# построим матрицу ошибок\n",
    "plt.figure(figsize=(5, 5))\n",
    "sns.heatmap(confusion_matrix(target_test_catboost, pred_loaded_cat),annot=True,fmt='3.0f',cmap=\"plasma\")\n",
    "plt.title('CatBoost: матрица ошибок', y=1, size=18)"
   ]
  },
  {
   "cell_type": "markdown",
   "metadata": {},
   "source": [
    "# 6 Выгрузка итогового решения в csv"
   ]
  },
  {
   "cell_type": "code",
   "execution_count": 145,
   "metadata": {},
   "outputs": [],
   "source": [
    "# создадим датасет c предсказаниями\n",
    "y_pred = pred_loaded_cat_solution\n",
    "df_y_pred = pd.DataFrame(y_pred)\n",
    "df_y_pred.rename(columns = {0 : 'label'}, inplace = True)\n",
    "\n",
    "# посмотрим статистики\n",
    "#df_y_pred.describe()"
   ]
  },
  {
   "cell_type": "code",
   "execution_count": 146,
   "metadata": {},
   "outputs": [],
   "source": [
    "# объединим в итоговый датасет с решением \n",
    "df_sample_solution_final_catboost = df_y_pred\n",
    "df_sample_solution_final_catboost['id'] = df_sample_solution['id']\n",
    "df_sample_solution_final_catboost = df_sample_solution_final_catboost[['id', 'label']]\n",
    "\n",
    "df_sample_solution_final_catboost['id'] = df_sample_solution_final_catboost['id'].astype('int')\n",
    "df_sample_solution_final_catboost['label'] = df_sample_solution_final_catboost['label'].astype('int')\n",
    "\n",
    "#display(df_sample_solution_final_catboost)\n",
    "#df_sample_solution_final_catboost.describe()"
   ]
  },
  {
   "cell_type": "code",
   "execution_count": 147,
   "metadata": {},
   "outputs": [],
   "source": [
    "# сохраним результат предсказания в 'csv' файл\n",
    "df_sample_solution_final_catboost.to_csv('df_sample_solution_final_pochta.csv', sep=\",\", index=False, line_terminator='\\n')"
   ]
  },
  {
   "cell_type": "code",
   "execution_count": 148,
   "metadata": {},
   "outputs": [
    {
     "name": "stdout",
     "output_type": "stream",
     "text": [
      "0.9761200546328956\n"
     ]
    }
   ],
   "source": [
    "# вычислим метрику metric_09AUC_01Recall (итоговая метрика)\n",
    "metric_09AUC_01Recall = metric_from_assignment(target_train_catboost, grid_search_catboost.predict(features_train_catboost))\n",
    "print(metric_09AUC_01Recall)"
   ]
  },
  {
   "cell_type": "code",
   "execution_count": null,
   "metadata": {},
   "outputs": [],
   "source": [
    "print(\"TEST_SIZE =\", TEST_SIZE)  #размер тестовой выборки\n",
    "print(\"FRACTION_FOR_DOWNSAMPLING =\", FRACTION_FOR_DOWNSAMPLING) #размер выборки для DOWNSAMPLING (доля \"0\" по 'label' от датасета для обучающей выборки)\n",
    "print(\"----------------------------------------\")\n",
    "# итоговые метрики:\n",
    "print(\"           GridSearch =\", grid_search_catboost.best_score_)\n",
    "print(\"           ! Recall   =\", score_loaded_cat_recall) \n",
    "print(\"              ROC-AUC =\", auc)\n",
    "print(\"metric_09AUC_01Recall =\", metric_09AUC_01Recall)\n",
    "print(\"----------------------------------------\")\n",
    "pred_loaded_cat_solution_1 = np.sum(pred_loaded_cat_solution==1)\n",
    "pred_loaded_cat_solution_0 = np.sum(pred_loaded_cat_solution==0)\n",
    "pred_loaded_cat_solution_percent1 = pred_loaded_cat_solution_1 / (pred_loaded_cat_solution_1 + pred_loaded_cat_solution_0)\n",
    "print(f\"Процент единиц в предсказании = {pred_loaded_cat_solution_percent1:0.2%}\")\n",
    "print(f\"Итого единиц в предсказании   = {pred_loaded_cat_solution_1}\")\n",
    "print(f\"Итого нулей  в предсказании   = {pred_loaded_cat_solution_0}\")\n",
    "print(f\"Итого выборка  предсказания   = {pred_loaded_cat_solution_0 + pred_loaded_cat_solution_1}\")\n",
    "print(\"----------------------------------------\")\n",
    "print(\"\\n Варианты для подбора гиперпараметров модели:\\n\", catboost_params)\n",
    "print(\"\\n Лучшие гиперпараметры модели :\\n\", grid_search_catboost.best_params_)"
   ]
  },
  {
   "cell_type": "code",
   "execution_count": null,
   "metadata": {},
   "outputs": [],
   "source": []
  },
  {
   "cell_type": "code",
   "execution_count": null,
   "metadata": {},
   "outputs": [],
   "source": []
  },
  {
   "cell_type": "code",
   "execution_count": null,
   "metadata": {},
   "outputs": [],
   "source": []
  }
 ],
 "metadata": {
  "colab": {
   "provenance": []
  },
  "kernelspec": {
   "display_name": "Python 3 (ipykernel)",
   "language": "python",
   "name": "python3"
  },
  "language_info": {
   "codemirror_mode": {
    "name": "ipython",
    "version": 3
   },
   "file_extension": ".py",
   "mimetype": "text/x-python",
   "name": "python",
   "nbconvert_exporter": "python",
   "pygments_lexer": "ipython3",
   "version": "3.9.10"
  },
  "toc": {
   "base_numbering": 1,
   "nav_menu": {
    "height": "278px",
    "width": "441px"
   },
   "number_sections": true,
   "sideBar": true,
   "skip_h1_title": true,
   "title_cell": "Table of Contents",
   "title_sidebar": "Contents",
   "toc_cell": true,
   "toc_position": {},
   "toc_section_display": true,
   "toc_window_display": false
  }
 },
 "nbformat": 4,
 "nbformat_minor": 1
}
